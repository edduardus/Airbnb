{
 "cells": [
  {
   "cell_type": "markdown",
   "metadata": {},
   "source": [
    "# <center>Previsão</center>"
   ]
  },
  {
   "cell_type": "markdown",
   "metadata": {},
   "source": [
    "## 1 - Definição do Problema"
   ]
  },
  {
   "cell_type": "markdown",
   "metadata": {},
   "source": [
    "Esse projeto tem o objetivo de fazer a previsão dos preços de aluguéis de imóveis feitos pela plataforma Airbnb na cidade do Rio de Janeiro.\n",
    "\n",
    "Logo, o problema em questão trata-se de um problema de Regressão"
   ]
  },
  {
   "cell_type": "markdown",
   "metadata": {},
   "source": [
    "## 2 - Carga dos Dados"
   ]
  },
  {
   "cell_type": "code",
   "execution_count": 18,
   "metadata": {},
   "outputs": [],
   "source": [
    "# imports\n",
    "import numpy as np \n",
    "import pandas as pd\n",
    "\n",
    "import seaborn as sns\n",
    "import matplotlib.pyplot as plt\n",
    "\n",
    "from sklearn.svm import SVR\n",
    "from sklearn.linear_model import LinearRegression\n",
    "from sklearn.ensemble import RandomForestRegressor, GradientBoostingRegressor\n",
    "from sklearn.neighbors import KNeighborsRegressor\n",
    "\n",
    "from sklearn.model_selection import train_test_split\n",
    "\n",
    "from sklearn.metrics import r2_score, mean_squared_error"
   ]
  },
  {
   "cell_type": "code",
   "execution_count": 19,
   "metadata": {},
   "outputs": [
    {
     "data": {
      "text/html": [
       "<div>\n",
       "<style scoped>\n",
       "    .dataframe tbody tr th:only-of-type {\n",
       "        vertical-align: middle;\n",
       "    }\n",
       "\n",
       "    .dataframe tbody tr th {\n",
       "        vertical-align: top;\n",
       "    }\n",
       "\n",
       "    .dataframe thead th {\n",
       "        text-align: right;\n",
       "    }\n",
       "</style>\n",
       "<table border=\"1\" class=\"dataframe\">\n",
       "  <thead>\n",
       "    <tr style=\"text-align: right;\">\n",
       "      <th></th>\n",
       "      <th>id</th>\n",
       "      <th>name</th>\n",
       "      <th>host_id</th>\n",
       "      <th>host_name</th>\n",
       "      <th>neighbourhood</th>\n",
       "      <th>latitude</th>\n",
       "      <th>longitude</th>\n",
       "      <th>room_type</th>\n",
       "      <th>price</th>\n",
       "      <th>minimum_nights</th>\n",
       "      <th>number_of_reviews</th>\n",
       "      <th>last_review</th>\n",
       "      <th>reviews_per_month</th>\n",
       "      <th>calculated_host_listings_count</th>\n",
       "      <th>availability_365</th>\n",
       "    </tr>\n",
       "  </thead>\n",
       "  <tbody>\n",
       "    <tr>\n",
       "      <th>0</th>\n",
       "      <td>17878</td>\n",
       "      <td>Very Nice 2Br - Copacabana - WiFi</td>\n",
       "      <td>68997</td>\n",
       "      <td>Matthias</td>\n",
       "      <td>Copacabana</td>\n",
       "      <td>-22.96592</td>\n",
       "      <td>-43.17896</td>\n",
       "      <td>Entire home/apt</td>\n",
       "      <td>218</td>\n",
       "      <td>5</td>\n",
       "      <td>251</td>\n",
       "      <td>2020-04-06</td>\n",
       "      <td>2.11</td>\n",
       "      <td>1</td>\n",
       "      <td>0</td>\n",
       "    </tr>\n",
       "    <tr>\n",
       "      <th>1</th>\n",
       "      <td>21280</td>\n",
       "      <td>Renovated Modern Apt. Near Beach</td>\n",
       "      <td>81163</td>\n",
       "      <td>Jules</td>\n",
       "      <td>Ipanema</td>\n",
       "      <td>-22.98467</td>\n",
       "      <td>-43.19611</td>\n",
       "      <td>Entire home/apt</td>\n",
       "      <td>422</td>\n",
       "      <td>5</td>\n",
       "      <td>94</td>\n",
       "      <td>2020-03-22</td>\n",
       "      <td>1.25</td>\n",
       "      <td>1</td>\n",
       "      <td>69</td>\n",
       "    </tr>\n",
       "    <tr>\n",
       "      <th>2</th>\n",
       "      <td>25026</td>\n",
       "      <td>Beautiful Modern Decorated Studio in Copa</td>\n",
       "      <td>102840</td>\n",
       "      <td>Viviane</td>\n",
       "      <td>Copacabana</td>\n",
       "      <td>-22.97712</td>\n",
       "      <td>-43.19045</td>\n",
       "      <td>Entire home/apt</td>\n",
       "      <td>158</td>\n",
       "      <td>7</td>\n",
       "      <td>238</td>\n",
       "      <td>2020-02-15</td>\n",
       "      <td>1.98</td>\n",
       "      <td>3</td>\n",
       "      <td>95</td>\n",
       "    </tr>\n",
       "    <tr>\n",
       "      <th>3</th>\n",
       "      <td>31560</td>\n",
       "      <td>NICE &amp; COZY 1BDR - IPANEMA BEACH</td>\n",
       "      <td>135635</td>\n",
       "      <td>Renata</td>\n",
       "      <td>Ipanema</td>\n",
       "      <td>-22.98302</td>\n",
       "      <td>-43.21427</td>\n",
       "      <td>Entire home/apt</td>\n",
       "      <td>342</td>\n",
       "      <td>2</td>\n",
       "      <td>282</td>\n",
       "      <td>2020-03-02</td>\n",
       "      <td>2.37</td>\n",
       "      <td>1</td>\n",
       "      <td>0</td>\n",
       "    </tr>\n",
       "    <tr>\n",
       "      <th>4</th>\n",
       "      <td>35636</td>\n",
       "      <td>Cosy flat close to Ipanema beach</td>\n",
       "      <td>153232</td>\n",
       "      <td>Patricia</td>\n",
       "      <td>Ipanema</td>\n",
       "      <td>-22.98816</td>\n",
       "      <td>-43.19359</td>\n",
       "      <td>Entire home/apt</td>\n",
       "      <td>479</td>\n",
       "      <td>2</td>\n",
       "      <td>181</td>\n",
       "      <td>2020-03-15</td>\n",
       "      <td>2.29</td>\n",
       "      <td>1</td>\n",
       "      <td>358</td>\n",
       "    </tr>\n",
       "  </tbody>\n",
       "</table>\n",
       "</div>"
      ],
      "text/plain": [
       "      id                                       name  host_id host_name  \\\n",
       "0  17878          Very Nice 2Br - Copacabana - WiFi    68997  Matthias   \n",
       "1  21280           Renovated Modern Apt. Near Beach    81163     Jules   \n",
       "2  25026  Beautiful Modern Decorated Studio in Copa   102840   Viviane   \n",
       "3  31560           NICE & COZY 1BDR - IPANEMA BEACH   135635    Renata   \n",
       "4  35636           Cosy flat close to Ipanema beach   153232  Patricia   \n",
       "\n",
       "  neighbourhood  latitude  longitude        room_type  price  minimum_nights  \\\n",
       "0    Copacabana -22.96592  -43.17896  Entire home/apt    218               5   \n",
       "1       Ipanema -22.98467  -43.19611  Entire home/apt    422               5   \n",
       "2    Copacabana -22.97712  -43.19045  Entire home/apt    158               7   \n",
       "3       Ipanema -22.98302  -43.21427  Entire home/apt    342               2   \n",
       "4       Ipanema -22.98816  -43.19359  Entire home/apt    479               2   \n",
       "\n",
       "   number_of_reviews last_review  reviews_per_month  \\\n",
       "0                251  2020-04-06               2.11   \n",
       "1                 94  2020-03-22               1.25   \n",
       "2                238  2020-02-15               1.98   \n",
       "3                282  2020-03-02               2.37   \n",
       "4                181  2020-03-15               2.29   \n",
       "\n",
       "   calculated_host_listings_count  availability_365  \n",
       "0                               1                 0  \n",
       "1                               1                69  \n",
       "2                               3                95  \n",
       "3                               1                 0  \n",
       "4                               1               358  "
      ]
     },
     "execution_count": 19,
     "metadata": {},
     "output_type": "execute_result"
    }
   ],
   "source": [
    "# os dados são lidos e carregados em um Dataframe chamado df\n",
    "df = pd.read_parquet('./data/airbnb_RJ.parquet')\n",
    "df.head()"
   ]
  },
  {
   "cell_type": "markdown",
   "metadata": {},
   "source": [
    "## 3 - Análise Exploratória dos dados"
   ]
  },
  {
   "cell_type": "code",
   "execution_count": 20,
   "metadata": {},
   "outputs": [
    {
     "data": {
      "text/plain": [
       "(29546, 15)"
      ]
     },
     "execution_count": 20,
     "metadata": {},
     "output_type": "execute_result"
    }
   ],
   "source": [
    "df.shape"
   ]
  },
  {
   "cell_type": "markdown",
   "metadata": {},
   "source": [
    "A base de dados possui 29546 registros e 15 colunas."
   ]
  },
  {
   "cell_type": "code",
   "execution_count": 21,
   "metadata": {},
   "outputs": [
    {
     "data": {
      "text/plain": [
       "id                                         int64\n",
       "name                                      object\n",
       "host_id                                    int64\n",
       "host_name                                 object\n",
       "neighbourhood                             object\n",
       "latitude                                 float64\n",
       "longitude                                float64\n",
       "room_type                                 object\n",
       "price                                      int64\n",
       "minimum_nights                             int64\n",
       "number_of_reviews                          int64\n",
       "last_review                       datetime64[ns]\n",
       "reviews_per_month                        float64\n",
       "calculated_host_listings_count             int64\n",
       "availability_365                           int64\n",
       "dtype: object"
      ]
     },
     "execution_count": 21,
     "metadata": {},
     "output_type": "execute_result"
    }
   ],
   "source": [
    "# Tipos de Dados\n",
    "df.dtypes"
   ]
  },
  {
   "cell_type": "markdown",
   "metadata": {},
   "source": [
    "Todos os valores são do tipo float"
   ]
  },
  {
   "cell_type": "code",
   "execution_count": 22,
   "metadata": {},
   "outputs": [
    {
     "name": "stdout",
     "output_type": "stream",
     "text": [
      "id                                   0\n",
      "name                                33\n",
      "host_id                              0\n",
      "host_name                            1\n",
      "neighbourhood                        0\n",
      "latitude                             0\n",
      "longitude                            0\n",
      "room_type                            0\n",
      "price                                0\n",
      "minimum_nights                       0\n",
      "number_of_reviews                    0\n",
      "last_review                       9987\n",
      "reviews_per_month                 9987\n",
      "calculated_host_listings_count       0\n",
      "availability_365                     0\n",
      "dtype: int64\n"
     ]
    }
   ],
   "source": [
    "# Verificando valores missing\n",
    "print(df.isna().sum())"
   ]
  },
  {
   "cell_type": "markdown",
   "metadata": {},
   "source": [
    "Analisando-se a existência de valores faltantes, chegou-se as seguintes conclusões:\n",
    "- Existem 33 valores ausentes para a variável \"name\".\n",
    "- 1 valor faltante para a variável \"host_name\".\n",
    "- 9987 valores faltantes para as variáveis \"last_review\" e \"reviews_per_month\".\n",
    "\n",
    "como as variáveis \"name\" e \"host_name\" não têm valor preditivo, elas serão desconsideradas, e por tal razão tais valores não prejudicarão as análises.\n",
    "\n",
    "Como as colunas \"last_review\" e \"reviews_per_month\" possuem grande quantidade de valores nulos, optou-se por retirá-las da base de dados."
   ]
  },
  {
   "cell_type": "code",
   "execution_count": 23,
   "metadata": {},
   "outputs": [
    {
     "data": {
      "text/html": [
       "<div>\n",
       "<style scoped>\n",
       "    .dataframe tbody tr th:only-of-type {\n",
       "        vertical-align: middle;\n",
       "    }\n",
       "\n",
       "    .dataframe tbody tr th {\n",
       "        vertical-align: top;\n",
       "    }\n",
       "\n",
       "    .dataframe thead th {\n",
       "        text-align: right;\n",
       "    }\n",
       "</style>\n",
       "<table border=\"1\" class=\"dataframe\">\n",
       "  <thead>\n",
       "    <tr style=\"text-align: right;\">\n",
       "      <th></th>\n",
       "      <th>id</th>\n",
       "      <th>host_id</th>\n",
       "      <th>neighbourhood</th>\n",
       "      <th>latitude</th>\n",
       "      <th>longitude</th>\n",
       "      <th>room_type</th>\n",
       "      <th>price</th>\n",
       "      <th>minimum_nights</th>\n",
       "      <th>number_of_reviews</th>\n",
       "      <th>calculated_host_listings_count</th>\n",
       "      <th>availability_365</th>\n",
       "    </tr>\n",
       "  </thead>\n",
       "  <tbody>\n",
       "    <tr>\n",
       "      <th>0</th>\n",
       "      <td>17878</td>\n",
       "      <td>68997</td>\n",
       "      <td>Copacabana</td>\n",
       "      <td>-22.96592</td>\n",
       "      <td>-43.17896</td>\n",
       "      <td>Entire home/apt</td>\n",
       "      <td>218</td>\n",
       "      <td>5</td>\n",
       "      <td>251</td>\n",
       "      <td>1</td>\n",
       "      <td>0</td>\n",
       "    </tr>\n",
       "    <tr>\n",
       "      <th>1</th>\n",
       "      <td>21280</td>\n",
       "      <td>81163</td>\n",
       "      <td>Ipanema</td>\n",
       "      <td>-22.98467</td>\n",
       "      <td>-43.19611</td>\n",
       "      <td>Entire home/apt</td>\n",
       "      <td>422</td>\n",
       "      <td>5</td>\n",
       "      <td>94</td>\n",
       "      <td>1</td>\n",
       "      <td>69</td>\n",
       "    </tr>\n",
       "    <tr>\n",
       "      <th>2</th>\n",
       "      <td>25026</td>\n",
       "      <td>102840</td>\n",
       "      <td>Copacabana</td>\n",
       "      <td>-22.97712</td>\n",
       "      <td>-43.19045</td>\n",
       "      <td>Entire home/apt</td>\n",
       "      <td>158</td>\n",
       "      <td>7</td>\n",
       "      <td>238</td>\n",
       "      <td>3</td>\n",
       "      <td>95</td>\n",
       "    </tr>\n",
       "    <tr>\n",
       "      <th>3</th>\n",
       "      <td>31560</td>\n",
       "      <td>135635</td>\n",
       "      <td>Ipanema</td>\n",
       "      <td>-22.98302</td>\n",
       "      <td>-43.21427</td>\n",
       "      <td>Entire home/apt</td>\n",
       "      <td>342</td>\n",
       "      <td>2</td>\n",
       "      <td>282</td>\n",
       "      <td>1</td>\n",
       "      <td>0</td>\n",
       "    </tr>\n",
       "    <tr>\n",
       "      <th>4</th>\n",
       "      <td>35636</td>\n",
       "      <td>153232</td>\n",
       "      <td>Ipanema</td>\n",
       "      <td>-22.98816</td>\n",
       "      <td>-43.19359</td>\n",
       "      <td>Entire home/apt</td>\n",
       "      <td>479</td>\n",
       "      <td>2</td>\n",
       "      <td>181</td>\n",
       "      <td>1</td>\n",
       "      <td>358</td>\n",
       "    </tr>\n",
       "  </tbody>\n",
       "</table>\n",
       "</div>"
      ],
      "text/plain": [
       "      id  host_id neighbourhood  latitude  longitude        room_type  price  \\\n",
       "0  17878    68997    Copacabana -22.96592  -43.17896  Entire home/apt    218   \n",
       "1  21280    81163       Ipanema -22.98467  -43.19611  Entire home/apt    422   \n",
       "2  25026   102840    Copacabana -22.97712  -43.19045  Entire home/apt    158   \n",
       "3  31560   135635       Ipanema -22.98302  -43.21427  Entire home/apt    342   \n",
       "4  35636   153232       Ipanema -22.98816  -43.19359  Entire home/apt    479   \n",
       "\n",
       "   minimum_nights  number_of_reviews  calculated_host_listings_count  \\\n",
       "0               5                251                               1   \n",
       "1               5                 94                               1   \n",
       "2               7                238                               3   \n",
       "3               2                282                               1   \n",
       "4               2                181                               1   \n",
       "\n",
       "   availability_365  \n",
       "0                 0  \n",
       "1                69  \n",
       "2                95  \n",
       "3                 0  \n",
       "4               358  "
      ]
     },
     "execution_count": 23,
     "metadata": {},
     "output_type": "execute_result"
    }
   ],
   "source": [
    "#retiranda da variável ESTIMATEDLOG da base de dados\n",
    "df.drop([\"name\", \"host_name\", \"last_review\", \"reviews_per_month\"], axis=1, inplace=True)\n",
    "df.head()"
   ]
  },
  {
   "cell_type": "code",
   "execution_count": 24,
   "metadata": {},
   "outputs": [
    {
     "data": {
      "text/plain": [
       "(29546, 11)"
      ]
     },
     "execution_count": 24,
     "metadata": {},
     "output_type": "execute_result"
    }
   ],
   "source": [
    "df.shape"
   ]
  },
  {
   "cell_type": "code",
   "execution_count": 25,
   "metadata": {},
   "outputs": [
    {
     "data": {
      "text/plain": [
       "id                                29546\n",
       "host_id                           20544\n",
       "neighbourhood                        69\n",
       "latitude                          10037\n",
       "longitude                         12569\n",
       "room_type                             4\n",
       "price                               571\n",
       "minimum_nights                        8\n",
       "number_of_reviews                   265\n",
       "calculated_host_listings_count       47\n",
       "availability_365                    366\n",
       "dtype: int64"
      ]
     },
     "execution_count": 25,
     "metadata": {},
     "output_type": "execute_result"
    }
   ],
   "source": [
    "# Verificando Valores Únicos\n",
    "df.nunique()"
   ]
  },
  {
   "cell_type": "markdown",
   "metadata": {},
   "source": [
    "As variáveis id e host_id são variáveis de identificação e por isso serão retiradas da base de dados"
   ]
  },
  {
   "cell_type": "code",
   "execution_count": 26,
   "metadata": {},
   "outputs": [
    {
     "data": {
      "text/html": [
       "<div>\n",
       "<style scoped>\n",
       "    .dataframe tbody tr th:only-of-type {\n",
       "        vertical-align: middle;\n",
       "    }\n",
       "\n",
       "    .dataframe tbody tr th {\n",
       "        vertical-align: top;\n",
       "    }\n",
       "\n",
       "    .dataframe thead th {\n",
       "        text-align: right;\n",
       "    }\n",
       "</style>\n",
       "<table border=\"1\" class=\"dataframe\">\n",
       "  <thead>\n",
       "    <tr style=\"text-align: right;\">\n",
       "      <th></th>\n",
       "      <th>neighbourhood</th>\n",
       "      <th>latitude</th>\n",
       "      <th>longitude</th>\n",
       "      <th>room_type</th>\n",
       "      <th>price</th>\n",
       "      <th>minimum_nights</th>\n",
       "      <th>number_of_reviews</th>\n",
       "      <th>calculated_host_listings_count</th>\n",
       "      <th>availability_365</th>\n",
       "    </tr>\n",
       "  </thead>\n",
       "  <tbody>\n",
       "    <tr>\n",
       "      <th>0</th>\n",
       "      <td>Copacabana</td>\n",
       "      <td>-22.96592</td>\n",
       "      <td>-43.17896</td>\n",
       "      <td>Entire home/apt</td>\n",
       "      <td>218</td>\n",
       "      <td>5</td>\n",
       "      <td>251</td>\n",
       "      <td>1</td>\n",
       "      <td>0</td>\n",
       "    </tr>\n",
       "    <tr>\n",
       "      <th>1</th>\n",
       "      <td>Ipanema</td>\n",
       "      <td>-22.98467</td>\n",
       "      <td>-43.19611</td>\n",
       "      <td>Entire home/apt</td>\n",
       "      <td>422</td>\n",
       "      <td>5</td>\n",
       "      <td>94</td>\n",
       "      <td>1</td>\n",
       "      <td>69</td>\n",
       "    </tr>\n",
       "    <tr>\n",
       "      <th>2</th>\n",
       "      <td>Copacabana</td>\n",
       "      <td>-22.97712</td>\n",
       "      <td>-43.19045</td>\n",
       "      <td>Entire home/apt</td>\n",
       "      <td>158</td>\n",
       "      <td>7</td>\n",
       "      <td>238</td>\n",
       "      <td>3</td>\n",
       "      <td>95</td>\n",
       "    </tr>\n",
       "    <tr>\n",
       "      <th>3</th>\n",
       "      <td>Ipanema</td>\n",
       "      <td>-22.98302</td>\n",
       "      <td>-43.21427</td>\n",
       "      <td>Entire home/apt</td>\n",
       "      <td>342</td>\n",
       "      <td>2</td>\n",
       "      <td>282</td>\n",
       "      <td>1</td>\n",
       "      <td>0</td>\n",
       "    </tr>\n",
       "    <tr>\n",
       "      <th>4</th>\n",
       "      <td>Ipanema</td>\n",
       "      <td>-22.98816</td>\n",
       "      <td>-43.19359</td>\n",
       "      <td>Entire home/apt</td>\n",
       "      <td>479</td>\n",
       "      <td>2</td>\n",
       "      <td>181</td>\n",
       "      <td>1</td>\n",
       "      <td>358</td>\n",
       "    </tr>\n",
       "  </tbody>\n",
       "</table>\n",
       "</div>"
      ],
      "text/plain": [
       "  neighbourhood  latitude  longitude        room_type  price  minimum_nights  \\\n",
       "0    Copacabana -22.96592  -43.17896  Entire home/apt    218               5   \n",
       "1       Ipanema -22.98467  -43.19611  Entire home/apt    422               5   \n",
       "2    Copacabana -22.97712  -43.19045  Entire home/apt    158               7   \n",
       "3       Ipanema -22.98302  -43.21427  Entire home/apt    342               2   \n",
       "4       Ipanema -22.98816  -43.19359  Entire home/apt    479               2   \n",
       "\n",
       "   number_of_reviews  calculated_host_listings_count  availability_365  \n",
       "0                251                               1                 0  \n",
       "1                 94                               1                69  \n",
       "2                238                               3                95  \n",
       "3                282                               1                 0  \n",
       "4                181                               1               358  "
      ]
     },
     "execution_count": 26,
     "metadata": {},
     "output_type": "execute_result"
    }
   ],
   "source": [
    "df.drop(['id','host_id'], axis=1, inplace=True)\n",
    "df.head()"
   ]
  },
  {
   "cell_type": "code",
   "execution_count": 27,
   "metadata": {},
   "outputs": [
    {
     "data": {
      "text/plain": [
       "neighbourhood                      object\n",
       "latitude                          float64\n",
       "longitude                         float64\n",
       "room_type                          object\n",
       "price                               int64\n",
       "minimum_nights                      int64\n",
       "number_of_reviews                   int64\n",
       "calculated_host_listings_count      int64\n",
       "availability_365                    int64\n",
       "dtype: object"
      ]
     },
     "execution_count": 27,
     "metadata": {},
     "output_type": "execute_result"
    }
   ],
   "source": [
    "df.dtypes"
   ]
  },
  {
   "cell_type": "markdown",
   "metadata": {},
   "source": [
    "As únicas variáveis que não são contínuas são: neighbourhood e room_type"
   ]
  },
  {
   "cell_type": "markdown",
   "metadata": {},
   "source": [
    "### Análise das variáveis categóricas"
   ]
  },
  {
   "cell_type": "code",
   "execution_count": 28,
   "metadata": {},
   "outputs": [
    {
     "data": {
      "text/plain": [
       "Copacabana         8490\n",
       "Barra da Tijuca    2917\n",
       "Ipanema            2598\n",
       "Botafogo           1574\n",
       "Jacarepaguá        1496\n",
       "                   ... \n",
       "Mangueira            21\n",
       "Riachuelo            21\n",
       "Bonsucesso           20\n",
       "Santa Cruz           20\n",
       "Encantado            20\n",
       "Name: neighbourhood, Length: 69, dtype: int64"
      ]
     },
     "execution_count": 28,
     "metadata": {},
     "output_type": "execute_result"
    }
   ],
   "source": [
    "df.neighbourhood.value_counts()"
   ]
  },
  {
   "cell_type": "code",
   "execution_count": 29,
   "metadata": {},
   "outputs": [
    {
     "data": {
      "text/plain": [
       "Entire home/apt    20346\n",
       "Private room        8363\n",
       "Shared room          680\n",
       "Hotel room           157\n",
       "Name: room_type, dtype: int64"
      ]
     },
     "execution_count": 29,
     "metadata": {},
     "output_type": "execute_result"
    }
   ],
   "source": [
    "df.room_type.value_counts()"
   ]
  },
  {
   "cell_type": "markdown",
   "metadata": {},
   "source": [
    "### Análise das variáveis continuas"
   ]
  },
  {
   "cell_type": "code",
   "execution_count": 30,
   "metadata": {},
   "outputs": [
    {
     "data": {
      "text/plain": [
       "['latitude',\n",
       " 'longitude',\n",
       " 'price',\n",
       " 'minimum_nights',\n",
       " 'number_of_reviews',\n",
       " 'calculated_host_listings_count',\n",
       " 'availability_365']"
      ]
     },
     "execution_count": 30,
     "metadata": {},
     "output_type": "execute_result"
    }
   ],
   "source": [
    "#aqui, cria-se uma lista para armazenar os nomes das variáveis contínuas \n",
    "continuas = list(df.columns)\n",
    "continuas.remove('neighbourhood')\n",
    "continuas.remove('room_type')\n",
    "continuas"
   ]
  },
  {
   "cell_type": "markdown",
   "metadata": {},
   "source": [
    "Verificação de correlação entre as variáveis"
   ]
  },
  {
   "cell_type": "code",
   "execution_count": 31,
   "metadata": {},
   "outputs": [
    {
     "data": {
      "text/html": [
       "<div>\n",
       "<style scoped>\n",
       "    .dataframe tbody tr th:only-of-type {\n",
       "        vertical-align: middle;\n",
       "    }\n",
       "\n",
       "    .dataframe tbody tr th {\n",
       "        vertical-align: top;\n",
       "    }\n",
       "\n",
       "    .dataframe thead th {\n",
       "        text-align: right;\n",
       "    }\n",
       "</style>\n",
       "<table border=\"1\" class=\"dataframe\">\n",
       "  <thead>\n",
       "    <tr style=\"text-align: right;\">\n",
       "      <th></th>\n",
       "      <th>latitude</th>\n",
       "      <th>longitude</th>\n",
       "      <th>price</th>\n",
       "      <th>minimum_nights</th>\n",
       "      <th>number_of_reviews</th>\n",
       "      <th>calculated_host_listings_count</th>\n",
       "      <th>availability_365</th>\n",
       "    </tr>\n",
       "  </thead>\n",
       "  <tbody>\n",
       "    <tr>\n",
       "      <th>latitude</th>\n",
       "      <td>1.000000</td>\n",
       "      <td>0.409009</td>\n",
       "      <td>-0.175126</td>\n",
       "      <td>-0.075907</td>\n",
       "      <td>-0.059809</td>\n",
       "      <td>-0.078445</td>\n",
       "      <td>-0.021488</td>\n",
       "    </tr>\n",
       "    <tr>\n",
       "      <th>longitude</th>\n",
       "      <td>0.409009</td>\n",
       "      <td>1.000000</td>\n",
       "      <td>-0.085920</td>\n",
       "      <td>0.063723</td>\n",
       "      <td>0.111639</td>\n",
       "      <td>0.078164</td>\n",
       "      <td>-0.044558</td>\n",
       "    </tr>\n",
       "    <tr>\n",
       "      <th>price</th>\n",
       "      <td>-0.175126</td>\n",
       "      <td>-0.085920</td>\n",
       "      <td>1.000000</td>\n",
       "      <td>0.184561</td>\n",
       "      <td>-0.156363</td>\n",
       "      <td>0.059018</td>\n",
       "      <td>-0.019991</td>\n",
       "    </tr>\n",
       "    <tr>\n",
       "      <th>minimum_nights</th>\n",
       "      <td>-0.075907</td>\n",
       "      <td>0.063723</td>\n",
       "      <td>0.184561</td>\n",
       "      <td>1.000000</td>\n",
       "      <td>-0.057774</td>\n",
       "      <td>-0.001599</td>\n",
       "      <td>-0.046686</td>\n",
       "    </tr>\n",
       "    <tr>\n",
       "      <th>number_of_reviews</th>\n",
       "      <td>-0.059809</td>\n",
       "      <td>0.111639</td>\n",
       "      <td>-0.156363</td>\n",
       "      <td>-0.057774</td>\n",
       "      <td>1.000000</td>\n",
       "      <td>-0.031015</td>\n",
       "      <td>0.056109</td>\n",
       "    </tr>\n",
       "    <tr>\n",
       "      <th>calculated_host_listings_count</th>\n",
       "      <td>-0.078445</td>\n",
       "      <td>0.078164</td>\n",
       "      <td>0.059018</td>\n",
       "      <td>-0.001599</td>\n",
       "      <td>-0.031015</td>\n",
       "      <td>1.000000</td>\n",
       "      <td>0.075654</td>\n",
       "    </tr>\n",
       "    <tr>\n",
       "      <th>availability_365</th>\n",
       "      <td>-0.021488</td>\n",
       "      <td>-0.044558</td>\n",
       "      <td>-0.019991</td>\n",
       "      <td>-0.046686</td>\n",
       "      <td>0.056109</td>\n",
       "      <td>0.075654</td>\n",
       "      <td>1.000000</td>\n",
       "    </tr>\n",
       "  </tbody>\n",
       "</table>\n",
       "</div>"
      ],
      "text/plain": [
       "                                latitude  longitude     price  minimum_nights  \\\n",
       "latitude                        1.000000   0.409009 -0.175126       -0.075907   \n",
       "longitude                       0.409009   1.000000 -0.085920        0.063723   \n",
       "price                          -0.175126  -0.085920  1.000000        0.184561   \n",
       "minimum_nights                 -0.075907   0.063723  0.184561        1.000000   \n",
       "number_of_reviews              -0.059809   0.111639 -0.156363       -0.057774   \n",
       "calculated_host_listings_count -0.078445   0.078164  0.059018       -0.001599   \n",
       "availability_365               -0.021488  -0.044558 -0.019991       -0.046686   \n",
       "\n",
       "                                number_of_reviews  \\\n",
       "latitude                                -0.059809   \n",
       "longitude                                0.111639   \n",
       "price                                   -0.156363   \n",
       "minimum_nights                          -0.057774   \n",
       "number_of_reviews                        1.000000   \n",
       "calculated_host_listings_count          -0.031015   \n",
       "availability_365                         0.056109   \n",
       "\n",
       "                                calculated_host_listings_count  \\\n",
       "latitude                                             -0.078445   \n",
       "longitude                                             0.078164   \n",
       "price                                                 0.059018   \n",
       "minimum_nights                                       -0.001599   \n",
       "number_of_reviews                                    -0.031015   \n",
       "calculated_host_listings_count                        1.000000   \n",
       "availability_365                                      0.075654   \n",
       "\n",
       "                                availability_365  \n",
       "latitude                               -0.021488  \n",
       "longitude                              -0.044558  \n",
       "price                                  -0.019991  \n",
       "minimum_nights                         -0.046686  \n",
       "number_of_reviews                       0.056109  \n",
       "calculated_host_listings_count          0.075654  \n",
       "availability_365                        1.000000  "
      ]
     },
     "execution_count": 31,
     "metadata": {},
     "output_type": "execute_result"
    }
   ],
   "source": [
    "df[continuas].corr()"
   ]
  },
  {
   "cell_type": "markdown",
   "metadata": {},
   "source": [
    "Analisando a tabela de correlações, não foram identificadas altas correlações."
   ]
  },
  {
   "cell_type": "markdown",
   "metadata": {},
   "source": [
    "### Verificação de outliers"
   ]
  },
  {
   "cell_type": "code",
   "execution_count": 32,
   "metadata": {},
   "outputs": [
    {
     "data": {
      "image/png": "[encoded data removed]",
      "text/plain": [
       "<Figure size 864x576 with 7 Axes>"
      ]
     },
     "metadata": {
      "needs_background": "light"
     },
     "output_type": "display_data"
    }
   ],
   "source": [
    "# Plot das variáveis contínuas\n",
    "\n",
    "# Tamanho da área de plotagem\n",
    "fig = plt.figure(figsize = (12,8))\n",
    "\n",
    "# Loop pelas variáveis contínuas\n",
    "for i, col in enumerate(continuas):\n",
    "    plt.subplot(2, 4, i + 1);\n",
    "    df.boxplot(col);\n",
    "    plt.tight_layout()\n",
    "    "
   ]
  },
  {
   "cell_type": "markdown",
   "metadata": {},
   "source": [
    "Analisando-se os Boxplots acima, percebe-se que a variável PERMEABILITY possui um outlier"
   ]
  },
  {
   "cell_type": "code",
   "execution_count": 33,
   "metadata": {},
   "outputs": [
    {
     "data": {
      "text/plain": [
       "149.0"
      ]
     },
     "execution_count": 33,
     "metadata": {},
     "output_type": "execute_result"
    }
   ],
   "source": [
    "df['price'].quantile(0.25)"
   ]
  },
  {
   "cell_type": "code",
   "execution_count": 34,
   "metadata": {},
   "outputs": [
    {
     "name": "stdout",
     "output_type": "stream",
     "text": [
      "O valor do 1º quartil é 149.0, o do 2º quartil (mediana) é 250.0 e do 3º quartil é 474.0\n",
      "\n",
      "O intervalo inter quartil é 325.0\n",
      "\n",
      "\n",
      " Os outliers são:\n"
     ]
    },
    {
     "data": {
      "text/plain": [
       "9        1143\n",
       "11       1033\n",
       "42       1143\n",
       "69       1054\n",
       "95       1143\n",
       "         ... \n",
       "29468    1202\n",
       "29495    1186\n",
       "29509    1328\n",
       "29527    1000\n",
       "29531    1329\n",
       "Name: price, Length: 1838, dtype: int64"
      ]
     },
     "execution_count": 34,
     "metadata": {},
     "output_type": "execute_result"
    }
   ],
   "source": [
    "Q1 = df.price.quantile(0.25)\n",
    "Q2 = df.price.quantile(0.5)\n",
    "Q3 = df.price.quantile(0.75)\n",
    "IQR = Q3 - Q1\n",
    "print(\"O valor do 1º quartil é {}, o do 2º quartil (mediana) é {} e do 3º quartil é {}\".format(Q1, Q2, Q3))\n",
    "print(\"\\nO intervalo inter quartil é {}\".format(IQR))\n",
    "#df['PERMEABILITY']=df[~((df.PERMEABILITY < (Q1 - 1.5 * IQR)) | (df.PERMEABILITY > (Q3 + 1.5 * IQR)))]['PERMEABILITY']\n",
    "print('\\n\\n Os outliers são:')\n",
    "df[((df.price < (Q1 - 1.5 * IQR)) | (df.price > (Q3 + 1.5 * IQR)))]['price']"
   ]
  },
  {
   "cell_type": "markdown",
   "metadata": {},
   "source": [
    "Como pode ser observado, os outliers identificados são muito maiores que os demais valores da dessa variável. Esses valores discrepantes também são prejudiciais ao processo de aprendizagem de máquina, e por isso, também devem ser retirados da base de dados.  "
   ]
  },
  {
   "cell_type": "code",
   "execution_count": 35,
   "metadata": {},
   "outputs": [
    {
     "data": {
      "text/plain": [
       "1340"
      ]
     },
     "execution_count": 35,
     "metadata": {},
     "output_type": "execute_result"
    }
   ],
   "source": [
    "max(df['price'])"
   ]
  },
  {
   "cell_type": "code",
   "execution_count": 36,
   "metadata": {},
   "outputs": [
    {
     "data": {
      "text/html": [
       "<div>\n",
       "<style scoped>\n",
       "    .dataframe tbody tr th:only-of-type {\n",
       "        vertical-align: middle;\n",
       "    }\n",
       "\n",
       "    .dataframe tbody tr th {\n",
       "        vertical-align: top;\n",
       "    }\n",
       "\n",
       "    .dataframe thead th {\n",
       "        text-align: right;\n",
       "    }\n",
       "</style>\n",
       "<table border=\"1\" class=\"dataframe\">\n",
       "  <thead>\n",
       "    <tr style=\"text-align: right;\">\n",
       "      <th></th>\n",
       "      <th>neighbourhood</th>\n",
       "      <th>latitude</th>\n",
       "      <th>longitude</th>\n",
       "      <th>room_type</th>\n",
       "      <th>price</th>\n",
       "      <th>minimum_nights</th>\n",
       "      <th>number_of_reviews</th>\n",
       "      <th>calculated_host_listings_count</th>\n",
       "      <th>availability_365</th>\n",
       "    </tr>\n",
       "  </thead>\n",
       "  <tbody>\n",
       "    <tr>\n",
       "      <th>19627</th>\n",
       "      <td>Leblon</td>\n",
       "      <td>-22.98661</td>\n",
       "      <td>-43.23434</td>\n",
       "      <td>Entire home/apt</td>\n",
       "      <td>1340</td>\n",
       "      <td>2</td>\n",
       "      <td>1</td>\n",
       "      <td>1</td>\n",
       "      <td>0</td>\n",
       "    </tr>\n",
       "  </tbody>\n",
       "</table>\n",
       "</div>"
      ],
      "text/plain": [
       "      neighbourhood  latitude  longitude        room_type  price  \\\n",
       "19627        Leblon -22.98661  -43.23434  Entire home/apt   1340   \n",
       "\n",
       "       minimum_nights  number_of_reviews  calculated_host_listings_count  \\\n",
       "19627               2                  1                               1   \n",
       "\n",
       "       availability_365  \n",
       "19627                 0  "
      ]
     },
     "execution_count": 36,
     "metadata": {},
     "output_type": "execute_result"
    }
   ],
   "source": [
    "df[df['price']==1340]"
   ]
  },
  {
   "cell_type": "markdown",
   "metadata": {},
   "source": [
    "Apesar de alguns valores aparentemente acima do valor esperado para a variável preço, optou-se por não retirá-los pelo fato de tais valores não serem irreais."
   ]
  },
  {
   "cell_type": "markdown",
   "metadata": {},
   "source": [
    "## 4 - Pré-processamento dos dados"
   ]
  },
  {
   "cell_type": "markdown",
   "metadata": {},
   "source": [
    "Como verificado na Análise exploratória dos dados, as variáveis \"neighbourhood\" e \"room_type\" são variáveis categóricas, e por isso precisam ser tratadas."
   ]
  },
  {
   "cell_type": "markdown",
   "metadata": {},
   "source": [
    "- room_type"
   ]
  },
  {
   "cell_type": "markdown",
   "metadata": {},
   "source": [
    "A variável room_type apresenta 4 valores possíveis.\n",
    "\n",
    "Sendo assim, a melhor forma de se representar essa variável é utilizando a representação one-hot encode. Nesse tipo de representação, a distância entre todos os tipos de regitros dessa variável é sempre o mesmo.\n",
    "\n",
    "Para o caso da variável em questão, a representação poderia ser feita da seguinte forma:\n",
    "- valor 1: [1, 0, 0, 0]\n",
    "- valor 2: [0, 1, 0, 0]\n",
    "- valor 3: [0, 0, 1, 0]\n",
    "- valor 4: [0, 0, 0, 1]"
   ]
  },
  {
   "cell_type": "code",
   "execution_count": 37,
   "metadata": {},
   "outputs": [
    {
     "data": {
      "text/html": [
       "<div>\n",
       "<style scoped>\n",
       "    .dataframe tbody tr th:only-of-type {\n",
       "        vertical-align: middle;\n",
       "    }\n",
       "\n",
       "    .dataframe tbody tr th {\n",
       "        vertical-align: top;\n",
       "    }\n",
       "\n",
       "    .dataframe thead th {\n",
       "        text-align: right;\n",
       "    }\n",
       "</style>\n",
       "<table border=\"1\" class=\"dataframe\">\n",
       "  <thead>\n",
       "    <tr style=\"text-align: right;\">\n",
       "      <th></th>\n",
       "      <th>neighbourhood</th>\n",
       "      <th>latitude</th>\n",
       "      <th>longitude</th>\n",
       "      <th>room_type</th>\n",
       "      <th>price</th>\n",
       "      <th>minimum_nights</th>\n",
       "      <th>number_of_reviews</th>\n",
       "      <th>calculated_host_listings_count</th>\n",
       "      <th>availability_365</th>\n",
       "    </tr>\n",
       "  </thead>\n",
       "  <tbody>\n",
       "    <tr>\n",
       "      <th>0</th>\n",
       "      <td>Copacabana</td>\n",
       "      <td>-22.96592</td>\n",
       "      <td>-43.17896</td>\n",
       "      <td>Entire home/apt</td>\n",
       "      <td>218</td>\n",
       "      <td>5</td>\n",
       "      <td>251</td>\n",
       "      <td>1</td>\n",
       "      <td>0</td>\n",
       "    </tr>\n",
       "    <tr>\n",
       "      <th>1</th>\n",
       "      <td>Ipanema</td>\n",
       "      <td>-22.98467</td>\n",
       "      <td>-43.19611</td>\n",
       "      <td>Entire home/apt</td>\n",
       "      <td>422</td>\n",
       "      <td>5</td>\n",
       "      <td>94</td>\n",
       "      <td>1</td>\n",
       "      <td>69</td>\n",
       "    </tr>\n",
       "    <tr>\n",
       "      <th>2</th>\n",
       "      <td>Copacabana</td>\n",
       "      <td>-22.97712</td>\n",
       "      <td>-43.19045</td>\n",
       "      <td>Entire home/apt</td>\n",
       "      <td>158</td>\n",
       "      <td>7</td>\n",
       "      <td>238</td>\n",
       "      <td>3</td>\n",
       "      <td>95</td>\n",
       "    </tr>\n",
       "    <tr>\n",
       "      <th>3</th>\n",
       "      <td>Ipanema</td>\n",
       "      <td>-22.98302</td>\n",
       "      <td>-43.21427</td>\n",
       "      <td>Entire home/apt</td>\n",
       "      <td>342</td>\n",
       "      <td>2</td>\n",
       "      <td>282</td>\n",
       "      <td>1</td>\n",
       "      <td>0</td>\n",
       "    </tr>\n",
       "    <tr>\n",
       "      <th>4</th>\n",
       "      <td>Ipanema</td>\n",
       "      <td>-22.98816</td>\n",
       "      <td>-43.19359</td>\n",
       "      <td>Entire home/apt</td>\n",
       "      <td>479</td>\n",
       "      <td>2</td>\n",
       "      <td>181</td>\n",
       "      <td>1</td>\n",
       "      <td>358</td>\n",
       "    </tr>\n",
       "  </tbody>\n",
       "</table>\n",
       "</div>"
      ],
      "text/plain": [
       "  neighbourhood  latitude  longitude        room_type  price  minimum_nights  \\\n",
       "0    Copacabana -22.96592  -43.17896  Entire home/apt    218               5   \n",
       "1       Ipanema -22.98467  -43.19611  Entire home/apt    422               5   \n",
       "2    Copacabana -22.97712  -43.19045  Entire home/apt    158               7   \n",
       "3       Ipanema -22.98302  -43.21427  Entire home/apt    342               2   \n",
       "4       Ipanema -22.98816  -43.19359  Entire home/apt    479               2   \n",
       "\n",
       "   number_of_reviews  calculated_host_listings_count  availability_365  \n",
       "0                251                               1                 0  \n",
       "1                 94                               1                69  \n",
       "2                238                               3                95  \n",
       "3                282                               1                 0  \n",
       "4                181                               1               358  "
      ]
     },
     "execution_count": 37,
     "metadata": {},
     "output_type": "execute_result"
    }
   ],
   "source": [
    "df.head()"
   ]
  },
  {
   "cell_type": "code",
   "execution_count": 38,
   "metadata": {},
   "outputs": [
    {
     "data": {
      "text/html": [
       "<div>\n",
       "<style scoped>\n",
       "    .dataframe tbody tr th:only-of-type {\n",
       "        vertical-align: middle;\n",
       "    }\n",
       "\n",
       "    .dataframe tbody tr th {\n",
       "        vertical-align: top;\n",
       "    }\n",
       "\n",
       "    .dataframe thead th {\n",
       "        text-align: right;\n",
       "    }\n",
       "</style>\n",
       "<table border=\"1\" class=\"dataframe\">\n",
       "  <thead>\n",
       "    <tr style=\"text-align: right;\">\n",
       "      <th></th>\n",
       "      <th>neighbourhood</th>\n",
       "      <th>latitude</th>\n",
       "      <th>longitude</th>\n",
       "      <th>price</th>\n",
       "      <th>minimum_nights</th>\n",
       "      <th>number_of_reviews</th>\n",
       "      <th>calculated_host_listings_count</th>\n",
       "      <th>availability_365</th>\n",
       "      <th>room_type_Hotel room</th>\n",
       "      <th>room_type_Private room</th>\n",
       "      <th>room_type_Shared room</th>\n",
       "    </tr>\n",
       "  </thead>\n",
       "  <tbody>\n",
       "    <tr>\n",
       "      <th>0</th>\n",
       "      <td>Copacabana</td>\n",
       "      <td>-22.96592</td>\n",
       "      <td>-43.17896</td>\n",
       "      <td>218</td>\n",
       "      <td>5</td>\n",
       "      <td>251</td>\n",
       "      <td>1</td>\n",
       "      <td>0</td>\n",
       "      <td>0</td>\n",
       "      <td>0</td>\n",
       "      <td>0</td>\n",
       "    </tr>\n",
       "    <tr>\n",
       "      <th>1</th>\n",
       "      <td>Ipanema</td>\n",
       "      <td>-22.98467</td>\n",
       "      <td>-43.19611</td>\n",
       "      <td>422</td>\n",
       "      <td>5</td>\n",
       "      <td>94</td>\n",
       "      <td>1</td>\n",
       "      <td>69</td>\n",
       "      <td>0</td>\n",
       "      <td>0</td>\n",
       "      <td>0</td>\n",
       "    </tr>\n",
       "    <tr>\n",
       "      <th>2</th>\n",
       "      <td>Copacabana</td>\n",
       "      <td>-22.97712</td>\n",
       "      <td>-43.19045</td>\n",
       "      <td>158</td>\n",
       "      <td>7</td>\n",
       "      <td>238</td>\n",
       "      <td>3</td>\n",
       "      <td>95</td>\n",
       "      <td>0</td>\n",
       "      <td>0</td>\n",
       "      <td>0</td>\n",
       "    </tr>\n",
       "    <tr>\n",
       "      <th>3</th>\n",
       "      <td>Ipanema</td>\n",
       "      <td>-22.98302</td>\n",
       "      <td>-43.21427</td>\n",
       "      <td>342</td>\n",
       "      <td>2</td>\n",
       "      <td>282</td>\n",
       "      <td>1</td>\n",
       "      <td>0</td>\n",
       "      <td>0</td>\n",
       "      <td>0</td>\n",
       "      <td>0</td>\n",
       "    </tr>\n",
       "    <tr>\n",
       "      <th>4</th>\n",
       "      <td>Ipanema</td>\n",
       "      <td>-22.98816</td>\n",
       "      <td>-43.19359</td>\n",
       "      <td>479</td>\n",
       "      <td>2</td>\n",
       "      <td>181</td>\n",
       "      <td>1</td>\n",
       "      <td>358</td>\n",
       "      <td>0</td>\n",
       "      <td>0</td>\n",
       "      <td>0</td>\n",
       "    </tr>\n",
       "  </tbody>\n",
       "</table>\n",
       "</div>"
      ],
      "text/plain": [
       "  neighbourhood  latitude  longitude  price  minimum_nights  \\\n",
       "0    Copacabana -22.96592  -43.17896    218               5   \n",
       "1       Ipanema -22.98467  -43.19611    422               5   \n",
       "2    Copacabana -22.97712  -43.19045    158               7   \n",
       "3       Ipanema -22.98302  -43.21427    342               2   \n",
       "4       Ipanema -22.98816  -43.19359    479               2   \n",
       "\n",
       "   number_of_reviews  calculated_host_listings_count  availability_365  \\\n",
       "0                251                               1                 0   \n",
       "1                 94                               1                69   \n",
       "2                238                               3                95   \n",
       "3                282                               1                 0   \n",
       "4                181                               1               358   \n",
       "\n",
       "   room_type_Hotel room  room_type_Private room  room_type_Shared room  \n",
       "0                     0                       0                      0  \n",
       "1                     0                       0                      0  \n",
       "2                     0                       0                      0  \n",
       "3                     0                       0                      0  \n",
       "4                     0                       0                      0  "
      ]
     },
     "execution_count": 38,
     "metadata": {},
     "output_type": "execute_result"
    }
   ],
   "source": [
    "#transformação da variável room_type\n",
    "df=pd.get_dummies(df,columns=['room_type'],drop_first=True)\n",
    "df.head()"
   ]
  },
  {
   "cell_type": "markdown",
   "metadata": {},
   "source": [
    "- neighbourhood"
   ]
  },
  {
   "cell_type": "markdown",
   "metadata": {},
   "source": [
    "Oprtou-se por grupar os bairros por zonas"
   ]
  },
  {
   "cell_type": "code",
   "execution_count": 39,
   "metadata": {},
   "outputs": [],
   "source": [
    "df_bairros=pd.read_csv('data/BairrosRJ.csv')"
   ]
  },
  {
   "cell_type": "code",
   "execution_count": 40,
   "metadata": {},
   "outputs": [
    {
     "data": {
      "text/html": [
       "<div>\n",
       "<style scoped>\n",
       "    .dataframe tbody tr th:only-of-type {\n",
       "        vertical-align: middle;\n",
       "    }\n",
       "\n",
       "    .dataframe tbody tr th {\n",
       "        vertical-align: top;\n",
       "    }\n",
       "\n",
       "    .dataframe thead th {\n",
       "        text-align: right;\n",
       "    }\n",
       "</style>\n",
       "<table border=\"1\" class=\"dataframe\">\n",
       "  <thead>\n",
       "    <tr style=\"text-align: right;\">\n",
       "      <th></th>\n",
       "      <th>zona</th>\n",
       "      <th>bairro</th>\n",
       "    </tr>\n",
       "  </thead>\n",
       "  <tbody>\n",
       "    <tr>\n",
       "      <th>0</th>\n",
       "      <td>Central</td>\n",
       "      <td>São Cristóvão</td>\n",
       "    </tr>\n",
       "    <tr>\n",
       "      <th>1</th>\n",
       "      <td>Central</td>\n",
       "      <td>Benfica</td>\n",
       "    </tr>\n",
       "    <tr>\n",
       "      <th>2</th>\n",
       "      <td>Central</td>\n",
       "      <td>Caju</td>\n",
       "    </tr>\n",
       "    <tr>\n",
       "      <th>3</th>\n",
       "      <td>Central</td>\n",
       "      <td>Catumbi</td>\n",
       "    </tr>\n",
       "    <tr>\n",
       "      <th>4</th>\n",
       "      <td>Central</td>\n",
       "      <td>Centro</td>\n",
       "    </tr>\n",
       "    <tr>\n",
       "      <th>...</th>\n",
       "      <td>...</td>\n",
       "      <td>...</td>\n",
       "    </tr>\n",
       "    <tr>\n",
       "      <th>159</th>\n",
       "      <td>Norte</td>\n",
       "      <td>Vicente de Carvalho</td>\n",
       "    </tr>\n",
       "    <tr>\n",
       "      <th>160</th>\n",
       "      <td>Norte</td>\n",
       "      <td>Vigário Geral</td>\n",
       "    </tr>\n",
       "    <tr>\n",
       "      <th>161</th>\n",
       "      <td>Norte</td>\n",
       "      <td>Vila da Penha</td>\n",
       "    </tr>\n",
       "    <tr>\n",
       "      <th>162</th>\n",
       "      <td>Norte</td>\n",
       "      <td>Vila Kosmos</td>\n",
       "    </tr>\n",
       "    <tr>\n",
       "      <th>163</th>\n",
       "      <td>Norte</td>\n",
       "      <td>Vista Alegre</td>\n",
       "    </tr>\n",
       "  </tbody>\n",
       "</table>\n",
       "<p>164 rows × 2 columns</p>\n",
       "</div>"
      ],
      "text/plain": [
       "        zona               bairro\n",
       "0    Central        São Cristóvão\n",
       "1    Central              Benfica\n",
       "2    Central                 Caju\n",
       "3    Central              Catumbi\n",
       "4    Central               Centro\n",
       "..       ...                  ...\n",
       "159    Norte  Vicente de Carvalho\n",
       "160    Norte        Vigário Geral\n",
       "161    Norte        Vila da Penha\n",
       "162    Norte          Vila Kosmos\n",
       "163    Norte         Vista Alegre\n",
       "\n",
       "[164 rows x 2 columns]"
      ]
     },
     "execution_count": 40,
     "metadata": {},
     "output_type": "execute_result"
    }
   ],
   "source": [
    "df_bairros"
   ]
  },
  {
   "cell_type": "code",
   "execution_count": 41,
   "metadata": {},
   "outputs": [],
   "source": [
    "new=pd.merge(df, df_bairros, left_on='neighbourhood', right_on='bairro', how='left')"
   ]
  },
  {
   "cell_type": "code",
   "execution_count": 42,
   "metadata": {},
   "outputs": [
    {
     "data": {
      "text/plain": [
       "Sul        18180\n",
       "Oeste       6993\n",
       "Central     2391\n",
       "Norte       1982\n",
       "Name: zona, dtype: int64"
      ]
     },
     "execution_count": 42,
     "metadata": {},
     "output_type": "execute_result"
    }
   ],
   "source": [
    "#df.room_type.value_counts()\n",
    "new.zona.value_counts()"
   ]
  },
  {
   "cell_type": "code",
   "execution_count": 43,
   "metadata": {},
   "outputs": [
    {
     "data": {
      "text/plain": [
       "array([], dtype=object)"
      ]
     },
     "execution_count": 43,
     "metadata": {},
     "output_type": "execute_result"
    }
   ],
   "source": [
    "new[new['zona'].isnull()]['neighbourhood'].unique()"
   ]
  },
  {
   "cell_type": "code",
   "execution_count": 44,
   "metadata": {},
   "outputs": [
    {
     "data": {
      "text/html": [
       "<div>\n",
       "<style scoped>\n",
       "    .dataframe tbody tr th:only-of-type {\n",
       "        vertical-align: middle;\n",
       "    }\n",
       "\n",
       "    .dataframe tbody tr th {\n",
       "        vertical-align: top;\n",
       "    }\n",
       "\n",
       "    .dataframe thead th {\n",
       "        text-align: right;\n",
       "    }\n",
       "</style>\n",
       "<table border=\"1\" class=\"dataframe\">\n",
       "  <thead>\n",
       "    <tr style=\"text-align: right;\">\n",
       "      <th></th>\n",
       "      <th>neighbourhood</th>\n",
       "      <th>latitude</th>\n",
       "      <th>longitude</th>\n",
       "      <th>price</th>\n",
       "      <th>minimum_nights</th>\n",
       "      <th>number_of_reviews</th>\n",
       "      <th>calculated_host_listings_count</th>\n",
       "      <th>availability_365</th>\n",
       "      <th>room_type_Hotel room</th>\n",
       "      <th>room_type_Private room</th>\n",
       "      <th>room_type_Shared room</th>\n",
       "      <th>zona</th>\n",
       "      <th>bairro</th>\n",
       "    </tr>\n",
       "  </thead>\n",
       "  <tbody>\n",
       "    <tr>\n",
       "      <th>0</th>\n",
       "      <td>Copacabana</td>\n",
       "      <td>-22.96592</td>\n",
       "      <td>-43.17896</td>\n",
       "      <td>218</td>\n",
       "      <td>5</td>\n",
       "      <td>251</td>\n",
       "      <td>1</td>\n",
       "      <td>0</td>\n",
       "      <td>0</td>\n",
       "      <td>0</td>\n",
       "      <td>0</td>\n",
       "      <td>Sul</td>\n",
       "      <td>Copacabana</td>\n",
       "    </tr>\n",
       "    <tr>\n",
       "      <th>1</th>\n",
       "      <td>Ipanema</td>\n",
       "      <td>-22.98467</td>\n",
       "      <td>-43.19611</td>\n",
       "      <td>422</td>\n",
       "      <td>5</td>\n",
       "      <td>94</td>\n",
       "      <td>1</td>\n",
       "      <td>69</td>\n",
       "      <td>0</td>\n",
       "      <td>0</td>\n",
       "      <td>0</td>\n",
       "      <td>Sul</td>\n",
       "      <td>Ipanema</td>\n",
       "    </tr>\n",
       "    <tr>\n",
       "      <th>2</th>\n",
       "      <td>Copacabana</td>\n",
       "      <td>-22.97712</td>\n",
       "      <td>-43.19045</td>\n",
       "      <td>158</td>\n",
       "      <td>7</td>\n",
       "      <td>238</td>\n",
       "      <td>3</td>\n",
       "      <td>95</td>\n",
       "      <td>0</td>\n",
       "      <td>0</td>\n",
       "      <td>0</td>\n",
       "      <td>Sul</td>\n",
       "      <td>Copacabana</td>\n",
       "    </tr>\n",
       "    <tr>\n",
       "      <th>3</th>\n",
       "      <td>Ipanema</td>\n",
       "      <td>-22.98302</td>\n",
       "      <td>-43.21427</td>\n",
       "      <td>342</td>\n",
       "      <td>2</td>\n",
       "      <td>282</td>\n",
       "      <td>1</td>\n",
       "      <td>0</td>\n",
       "      <td>0</td>\n",
       "      <td>0</td>\n",
       "      <td>0</td>\n",
       "      <td>Sul</td>\n",
       "      <td>Ipanema</td>\n",
       "    </tr>\n",
       "    <tr>\n",
       "      <th>4</th>\n",
       "      <td>Ipanema</td>\n",
       "      <td>-22.98816</td>\n",
       "      <td>-43.19359</td>\n",
       "      <td>479</td>\n",
       "      <td>2</td>\n",
       "      <td>181</td>\n",
       "      <td>1</td>\n",
       "      <td>358</td>\n",
       "      <td>0</td>\n",
       "      <td>0</td>\n",
       "      <td>0</td>\n",
       "      <td>Sul</td>\n",
       "      <td>Ipanema</td>\n",
       "    </tr>\n",
       "  </tbody>\n",
       "</table>\n",
       "</div>"
      ],
      "text/plain": [
       "  neighbourhood  latitude  longitude  price  minimum_nights  \\\n",
       "0    Copacabana -22.96592  -43.17896    218               5   \n",
       "1       Ipanema -22.98467  -43.19611    422               5   \n",
       "2    Copacabana -22.97712  -43.19045    158               7   \n",
       "3       Ipanema -22.98302  -43.21427    342               2   \n",
       "4       Ipanema -22.98816  -43.19359    479               2   \n",
       "\n",
       "   number_of_reviews  calculated_host_listings_count  availability_365  \\\n",
       "0                251                               1                 0   \n",
       "1                 94                               1                69   \n",
       "2                238                               3                95   \n",
       "3                282                               1                 0   \n",
       "4                181                               1               358   \n",
       "\n",
       "   room_type_Hotel room  room_type_Private room  room_type_Shared room zona  \\\n",
       "0                     0                       0                      0  Sul   \n",
       "1                     0                       0                      0  Sul   \n",
       "2                     0                       0                      0  Sul   \n",
       "3                     0                       0                      0  Sul   \n",
       "4                     0                       0                      0  Sul   \n",
       "\n",
       "       bairro  \n",
       "0  Copacabana  \n",
       "1     Ipanema  \n",
       "2  Copacabana  \n",
       "3     Ipanema  \n",
       "4     Ipanema  "
      ]
     },
     "execution_count": 44,
     "metadata": {},
     "output_type": "execute_result"
    }
   ],
   "source": [
    "new.head()"
   ]
  },
  {
   "cell_type": "code",
   "execution_count": 45,
   "metadata": {},
   "outputs": [
    {
     "data": {
      "text/html": [
       "<div>\n",
       "<style scoped>\n",
       "    .dataframe tbody tr th:only-of-type {\n",
       "        vertical-align: middle;\n",
       "    }\n",
       "\n",
       "    .dataframe tbody tr th {\n",
       "        vertical-align: top;\n",
       "    }\n",
       "\n",
       "    .dataframe thead th {\n",
       "        text-align: right;\n",
       "    }\n",
       "</style>\n",
       "<table border=\"1\" class=\"dataframe\">\n",
       "  <thead>\n",
       "    <tr style=\"text-align: right;\">\n",
       "      <th></th>\n",
       "      <th>latitude</th>\n",
       "      <th>longitude</th>\n",
       "      <th>price</th>\n",
       "      <th>minimum_nights</th>\n",
       "      <th>number_of_reviews</th>\n",
       "      <th>calculated_host_listings_count</th>\n",
       "      <th>availability_365</th>\n",
       "      <th>room_type_Hotel room</th>\n",
       "      <th>room_type_Private room</th>\n",
       "      <th>room_type_Shared room</th>\n",
       "      <th>zona</th>\n",
       "    </tr>\n",
       "  </thead>\n",
       "  <tbody>\n",
       "    <tr>\n",
       "      <th>0</th>\n",
       "      <td>-22.96592</td>\n",
       "      <td>-43.17896</td>\n",
       "      <td>218</td>\n",
       "      <td>5</td>\n",
       "      <td>251</td>\n",
       "      <td>1</td>\n",
       "      <td>0</td>\n",
       "      <td>0</td>\n",
       "      <td>0</td>\n",
       "      <td>0</td>\n",
       "      <td>Sul</td>\n",
       "    </tr>\n",
       "    <tr>\n",
       "      <th>1</th>\n",
       "      <td>-22.98467</td>\n",
       "      <td>-43.19611</td>\n",
       "      <td>422</td>\n",
       "      <td>5</td>\n",
       "      <td>94</td>\n",
       "      <td>1</td>\n",
       "      <td>69</td>\n",
       "      <td>0</td>\n",
       "      <td>0</td>\n",
       "      <td>0</td>\n",
       "      <td>Sul</td>\n",
       "    </tr>\n",
       "    <tr>\n",
       "      <th>2</th>\n",
       "      <td>-22.97712</td>\n",
       "      <td>-43.19045</td>\n",
       "      <td>158</td>\n",
       "      <td>7</td>\n",
       "      <td>238</td>\n",
       "      <td>3</td>\n",
       "      <td>95</td>\n",
       "      <td>0</td>\n",
       "      <td>0</td>\n",
       "      <td>0</td>\n",
       "      <td>Sul</td>\n",
       "    </tr>\n",
       "    <tr>\n",
       "      <th>3</th>\n",
       "      <td>-22.98302</td>\n",
       "      <td>-43.21427</td>\n",
       "      <td>342</td>\n",
       "      <td>2</td>\n",
       "      <td>282</td>\n",
       "      <td>1</td>\n",
       "      <td>0</td>\n",
       "      <td>0</td>\n",
       "      <td>0</td>\n",
       "      <td>0</td>\n",
       "      <td>Sul</td>\n",
       "    </tr>\n",
       "    <tr>\n",
       "      <th>4</th>\n",
       "      <td>-22.98816</td>\n",
       "      <td>-43.19359</td>\n",
       "      <td>479</td>\n",
       "      <td>2</td>\n",
       "      <td>181</td>\n",
       "      <td>1</td>\n",
       "      <td>358</td>\n",
       "      <td>0</td>\n",
       "      <td>0</td>\n",
       "      <td>0</td>\n",
       "      <td>Sul</td>\n",
       "    </tr>\n",
       "  </tbody>\n",
       "</table>\n",
       "</div>"
      ],
      "text/plain": [
       "   latitude  longitude  price  minimum_nights  number_of_reviews  \\\n",
       "0 -22.96592  -43.17896    218               5                251   \n",
       "1 -22.98467  -43.19611    422               5                 94   \n",
       "2 -22.97712  -43.19045    158               7                238   \n",
       "3 -22.98302  -43.21427    342               2                282   \n",
       "4 -22.98816  -43.19359    479               2                181   \n",
       "\n",
       "   calculated_host_listings_count  availability_365  room_type_Hotel room  \\\n",
       "0                               1                 0                     0   \n",
       "1                               1                69                     0   \n",
       "2                               3                95                     0   \n",
       "3                               1                 0                     0   \n",
       "4                               1               358                     0   \n",
       "\n",
       "   room_type_Private room  room_type_Shared room zona  \n",
       "0                       0                      0  Sul  \n",
       "1                       0                      0  Sul  \n",
       "2                       0                      0  Sul  \n",
       "3                       0                      0  Sul  \n",
       "4                       0                      0  Sul  "
      ]
     },
     "execution_count": 45,
     "metadata": {},
     "output_type": "execute_result"
    }
   ],
   "source": [
    "#retirada das variáveis 'neighbourhood' e 'bairro'\n",
    "new.drop(['neighbourhood','bairro'], axis=1, inplace=True)\n",
    "new.head()"
   ]
  },
  {
   "cell_type": "code",
   "execution_count": 46,
   "metadata": {},
   "outputs": [
    {
     "data": {
      "text/html": [
       "<div>\n",
       "<style scoped>\n",
       "    .dataframe tbody tr th:only-of-type {\n",
       "        vertical-align: middle;\n",
       "    }\n",
       "\n",
       "    .dataframe tbody tr th {\n",
       "        vertical-align: top;\n",
       "    }\n",
       "\n",
       "    .dataframe thead th {\n",
       "        text-align: right;\n",
       "    }\n",
       "</style>\n",
       "<table border=\"1\" class=\"dataframe\">\n",
       "  <thead>\n",
       "    <tr style=\"text-align: right;\">\n",
       "      <th></th>\n",
       "      <th>latitude</th>\n",
       "      <th>longitude</th>\n",
       "      <th>price</th>\n",
       "      <th>minimum_nights</th>\n",
       "      <th>number_of_reviews</th>\n",
       "      <th>calculated_host_listings_count</th>\n",
       "      <th>availability_365</th>\n",
       "      <th>room_type_Hotel room</th>\n",
       "      <th>room_type_Private room</th>\n",
       "      <th>room_type_Shared room</th>\n",
       "      <th>zona_Norte</th>\n",
       "      <th>zona_Oeste</th>\n",
       "      <th>zona_Sul</th>\n",
       "    </tr>\n",
       "  </thead>\n",
       "  <tbody>\n",
       "    <tr>\n",
       "      <th>0</th>\n",
       "      <td>-22.96592</td>\n",
       "      <td>-43.17896</td>\n",
       "      <td>218</td>\n",
       "      <td>5</td>\n",
       "      <td>251</td>\n",
       "      <td>1</td>\n",
       "      <td>0</td>\n",
       "      <td>0</td>\n",
       "      <td>0</td>\n",
       "      <td>0</td>\n",
       "      <td>0</td>\n",
       "      <td>0</td>\n",
       "      <td>1</td>\n",
       "    </tr>\n",
       "    <tr>\n",
       "      <th>1</th>\n",
       "      <td>-22.98467</td>\n",
       "      <td>-43.19611</td>\n",
       "      <td>422</td>\n",
       "      <td>5</td>\n",
       "      <td>94</td>\n",
       "      <td>1</td>\n",
       "      <td>69</td>\n",
       "      <td>0</td>\n",
       "      <td>0</td>\n",
       "      <td>0</td>\n",
       "      <td>0</td>\n",
       "      <td>0</td>\n",
       "      <td>1</td>\n",
       "    </tr>\n",
       "    <tr>\n",
       "      <th>2</th>\n",
       "      <td>-22.97712</td>\n",
       "      <td>-43.19045</td>\n",
       "      <td>158</td>\n",
       "      <td>7</td>\n",
       "      <td>238</td>\n",
       "      <td>3</td>\n",
       "      <td>95</td>\n",
       "      <td>0</td>\n",
       "      <td>0</td>\n",
       "      <td>0</td>\n",
       "      <td>0</td>\n",
       "      <td>0</td>\n",
       "      <td>1</td>\n",
       "    </tr>\n",
       "    <tr>\n",
       "      <th>3</th>\n",
       "      <td>-22.98302</td>\n",
       "      <td>-43.21427</td>\n",
       "      <td>342</td>\n",
       "      <td>2</td>\n",
       "      <td>282</td>\n",
       "      <td>1</td>\n",
       "      <td>0</td>\n",
       "      <td>0</td>\n",
       "      <td>0</td>\n",
       "      <td>0</td>\n",
       "      <td>0</td>\n",
       "      <td>0</td>\n",
       "      <td>1</td>\n",
       "    </tr>\n",
       "    <tr>\n",
       "      <th>4</th>\n",
       "      <td>-22.98816</td>\n",
       "      <td>-43.19359</td>\n",
       "      <td>479</td>\n",
       "      <td>2</td>\n",
       "      <td>181</td>\n",
       "      <td>1</td>\n",
       "      <td>358</td>\n",
       "      <td>0</td>\n",
       "      <td>0</td>\n",
       "      <td>0</td>\n",
       "      <td>0</td>\n",
       "      <td>0</td>\n",
       "      <td>1</td>\n",
       "    </tr>\n",
       "  </tbody>\n",
       "</table>\n",
       "</div>"
      ],
      "text/plain": [
       "   latitude  longitude  price  minimum_nights  number_of_reviews  \\\n",
       "0 -22.96592  -43.17896    218               5                251   \n",
       "1 -22.98467  -43.19611    422               5                 94   \n",
       "2 -22.97712  -43.19045    158               7                238   \n",
       "3 -22.98302  -43.21427    342               2                282   \n",
       "4 -22.98816  -43.19359    479               2                181   \n",
       "\n",
       "   calculated_host_listings_count  availability_365  room_type_Hotel room  \\\n",
       "0                               1                 0                     0   \n",
       "1                               1                69                     0   \n",
       "2                               3                95                     0   \n",
       "3                               1                 0                     0   \n",
       "4                               1               358                     0   \n",
       "\n",
       "   room_type_Private room  room_type_Shared room  zona_Norte  zona_Oeste  \\\n",
       "0                       0                      0           0           0   \n",
       "1                       0                      0           0           0   \n",
       "2                       0                      0           0           0   \n",
       "3                       0                      0           0           0   \n",
       "4                       0                      0           0           0   \n",
       "\n",
       "   zona_Sul  \n",
       "0         1  \n",
       "1         1  \n",
       "2         1  \n",
       "3         1  \n",
       "4         1  "
      ]
     },
     "execution_count": 46,
     "metadata": {},
     "output_type": "execute_result"
    }
   ],
   "source": [
    "#transformação da variável room_type\n",
    "new=pd.get_dummies(new,columns=['zona'],drop_first=True)\n",
    "new.head()"
   ]
  },
  {
   "cell_type": "markdown",
   "metadata": {},
   "source": [
    "# 5 - Geração dos Modelos"
   ]
  },
  {
   "cell_type": "markdown",
   "metadata": {},
   "source": [
    "## Métricas de Avaliação"
   ]
  },
  {
   "cell_type": "markdown",
   "metadata": {},
   "source": [
    "Serão utilizadas 2 métricas de avaliação para se medir o desempenho dos modelos\n",
    "- Erro Quadrado Médio (Mean Squared Error - MSE)\n",
    "\n",
    "Esse erro é dado pela média da soma dos quadrados das diferenças entre os valores previstos e os valores reais. Nesse caso, quanto menor o valor dessa métrica, melhor será o modelo.\n",
    "\n",
    "- Coeficiente de Determinação (R2)\n",
    "\n",
    "O coeficiente de determinação (R2) é um valor que indica o percentual de variabilidade da variável alvo que pode ser explicado pelo modelo. Um modelo perfeito possui um valor de R2 igual a 1 e um modelo constante, que sempre prevê como saída o valor médio da variável alvo, apresenta um valor de R2 igual a zero. Caso o resultado do modelo seja pior que a previsão pela média, o valor resultante de R2 será negativo.\n",
    "Dessa forma, quanto mais alto o valor de R2 (quanto mais próximo de 1), melhor será o modelo."
   ]
  },
  {
   "cell_type": "markdown",
   "metadata": {},
   "source": [
    "## 5.1 - Geração de Modelos"
   ]
  },
  {
   "cell_type": "markdown",
   "metadata": {},
   "source": [
    "### Separação das variáveis preditoras e da variável alvo"
   ]
  },
  {
   "cell_type": "code",
   "execution_count": 47,
   "metadata": {},
   "outputs": [
    {
     "data": {
      "text/html": [
       "<div>\n",
       "<style scoped>\n",
       "    .dataframe tbody tr th:only-of-type {\n",
       "        vertical-align: middle;\n",
       "    }\n",
       "\n",
       "    .dataframe tbody tr th {\n",
       "        vertical-align: top;\n",
       "    }\n",
       "\n",
       "    .dataframe thead th {\n",
       "        text-align: right;\n",
       "    }\n",
       "</style>\n",
       "<table border=\"1\" class=\"dataframe\">\n",
       "  <thead>\n",
       "    <tr style=\"text-align: right;\">\n",
       "      <th></th>\n",
       "      <th>latitude</th>\n",
       "      <th>longitude</th>\n",
       "      <th>price</th>\n",
       "      <th>minimum_nights</th>\n",
       "      <th>number_of_reviews</th>\n",
       "      <th>calculated_host_listings_count</th>\n",
       "      <th>availability_365</th>\n",
       "      <th>room_type_Hotel room</th>\n",
       "      <th>room_type_Private room</th>\n",
       "      <th>room_type_Shared room</th>\n",
       "      <th>zona_Norte</th>\n",
       "      <th>zona_Oeste</th>\n",
       "      <th>zona_Sul</th>\n",
       "    </tr>\n",
       "  </thead>\n",
       "  <tbody>\n",
       "    <tr>\n",
       "      <th>0</th>\n",
       "      <td>-22.96592</td>\n",
       "      <td>-43.17896</td>\n",
       "      <td>218</td>\n",
       "      <td>5</td>\n",
       "      <td>251</td>\n",
       "      <td>1</td>\n",
       "      <td>0</td>\n",
       "      <td>0</td>\n",
       "      <td>0</td>\n",
       "      <td>0</td>\n",
       "      <td>0</td>\n",
       "      <td>0</td>\n",
       "      <td>1</td>\n",
       "    </tr>\n",
       "    <tr>\n",
       "      <th>1</th>\n",
       "      <td>-22.98467</td>\n",
       "      <td>-43.19611</td>\n",
       "      <td>422</td>\n",
       "      <td>5</td>\n",
       "      <td>94</td>\n",
       "      <td>1</td>\n",
       "      <td>69</td>\n",
       "      <td>0</td>\n",
       "      <td>0</td>\n",
       "      <td>0</td>\n",
       "      <td>0</td>\n",
       "      <td>0</td>\n",
       "      <td>1</td>\n",
       "    </tr>\n",
       "    <tr>\n",
       "      <th>2</th>\n",
       "      <td>-22.97712</td>\n",
       "      <td>-43.19045</td>\n",
       "      <td>158</td>\n",
       "      <td>7</td>\n",
       "      <td>238</td>\n",
       "      <td>3</td>\n",
       "      <td>95</td>\n",
       "      <td>0</td>\n",
       "      <td>0</td>\n",
       "      <td>0</td>\n",
       "      <td>0</td>\n",
       "      <td>0</td>\n",
       "      <td>1</td>\n",
       "    </tr>\n",
       "    <tr>\n",
       "      <th>3</th>\n",
       "      <td>-22.98302</td>\n",
       "      <td>-43.21427</td>\n",
       "      <td>342</td>\n",
       "      <td>2</td>\n",
       "      <td>282</td>\n",
       "      <td>1</td>\n",
       "      <td>0</td>\n",
       "      <td>0</td>\n",
       "      <td>0</td>\n",
       "      <td>0</td>\n",
       "      <td>0</td>\n",
       "      <td>0</td>\n",
       "      <td>1</td>\n",
       "    </tr>\n",
       "    <tr>\n",
       "      <th>4</th>\n",
       "      <td>-22.98816</td>\n",
       "      <td>-43.19359</td>\n",
       "      <td>479</td>\n",
       "      <td>2</td>\n",
       "      <td>181</td>\n",
       "      <td>1</td>\n",
       "      <td>358</td>\n",
       "      <td>0</td>\n",
       "      <td>0</td>\n",
       "      <td>0</td>\n",
       "      <td>0</td>\n",
       "      <td>0</td>\n",
       "      <td>1</td>\n",
       "    </tr>\n",
       "  </tbody>\n",
       "</table>\n",
       "</div>"
      ],
      "text/plain": [
       "   latitude  longitude  price  minimum_nights  number_of_reviews  \\\n",
       "0 -22.96592  -43.17896    218               5                251   \n",
       "1 -22.98467  -43.19611    422               5                 94   \n",
       "2 -22.97712  -43.19045    158               7                238   \n",
       "3 -22.98302  -43.21427    342               2                282   \n",
       "4 -22.98816  -43.19359    479               2                181   \n",
       "\n",
       "   calculated_host_listings_count  availability_365  room_type_Hotel room  \\\n",
       "0                               1                 0                     0   \n",
       "1                               1                69                     0   \n",
       "2                               3                95                     0   \n",
       "3                               1                 0                     0   \n",
       "4                               1               358                     0   \n",
       "\n",
       "   room_type_Private room  room_type_Shared room  zona_Norte  zona_Oeste  \\\n",
       "0                       0                      0           0           0   \n",
       "1                       0                      0           0           0   \n",
       "2                       0                      0           0           0   \n",
       "3                       0                      0           0           0   \n",
       "4                       0                      0           0           0   \n",
       "\n",
       "   zona_Sul  \n",
       "0         1  \n",
       "1         1  \n",
       "2         1  \n",
       "3         1  \n",
       "4         1  "
      ]
     },
     "execution_count": 47,
     "metadata": {},
     "output_type": "execute_result"
    }
   ],
   "source": [
    "new.head()"
   ]
  },
  {
   "cell_type": "code",
   "execution_count": 48,
   "metadata": {},
   "outputs": [
    {
     "data": {
      "text/plain": [
       "((29546, 12), (29546,))"
      ]
     },
     "execution_count": 48,
     "metadata": {},
     "output_type": "execute_result"
    }
   ],
   "source": [
    "X=new.drop(['price'], axis=1, inplace=False)\n",
    "y=new['price']\n",
    "X.shape, y.shape"
   ]
  },
  {
   "cell_type": "markdown",
   "metadata": {},
   "source": [
    "### Separação dos dados de teste e de treino"
   ]
  },
  {
   "cell_type": "markdown",
   "metadata": {},
   "source": [
    "A base de dados deve ser dividida, de forma que uma parte dos dados seja utilizado para a geração do modelo e a outra parte seja utilizada para a avaliação do modelo gerado.\n",
    "\n",
    "Sendo assim, o conjunto de dados será dividido de forma que 70% desses dados seja utilizado para a geração do modelo e 30% para a avaliação"
   ]
  },
  {
   "cell_type": "code",
   "execution_count": 49,
   "metadata": {},
   "outputs": [],
   "source": [
    "X_train, X_test, y_train, y_test = train_test_split(X, y, test_size = 0.30, random_state=0)"
   ]
  },
  {
   "cell_type": "code",
   "execution_count": 50,
   "metadata": {},
   "outputs": [
    {
     "data": {
      "text/plain": [
       "((20682, 12), (8864, 12), (20682,), (8864,))"
      ]
     },
     "execution_count": 50,
     "metadata": {},
     "output_type": "execute_result"
    }
   ],
   "source": [
    "X_train.shape , X_test.shape, y_train.shape, y_test.shape "
   ]
  },
  {
   "cell_type": "markdown",
   "metadata": {},
   "source": [
    "Como pode ser visto, serão utilizados 20682 registros para o treinamento do modelo, e 8864 para o teste."
   ]
  },
  {
   "cell_type": "markdown",
   "metadata": {},
   "source": [
    "### Padronização dos dados"
   ]
  },
  {
   "cell_type": "code",
   "execution_count": 51,
   "metadata": {},
   "outputs": [
    {
     "data": {
      "text/html": [
       "<div>\n",
       "<style scoped>\n",
       "    .dataframe tbody tr th:only-of-type {\n",
       "        vertical-align: middle;\n",
       "    }\n",
       "\n",
       "    .dataframe tbody tr th {\n",
       "        vertical-align: top;\n",
       "    }\n",
       "\n",
       "    .dataframe thead th {\n",
       "        text-align: right;\n",
       "    }\n",
       "</style>\n",
       "<table border=\"1\" class=\"dataframe\">\n",
       "  <thead>\n",
       "    <tr style=\"text-align: right;\">\n",
       "      <th></th>\n",
       "      <th>latitude</th>\n",
       "      <th>longitude</th>\n",
       "      <th>minimum_nights</th>\n",
       "      <th>number_of_reviews</th>\n",
       "      <th>calculated_host_listings_count</th>\n",
       "      <th>availability_365</th>\n",
       "      <th>room_type_Hotel room</th>\n",
       "      <th>room_type_Private room</th>\n",
       "      <th>room_type_Shared room</th>\n",
       "      <th>zona_Norte</th>\n",
       "      <th>zona_Oeste</th>\n",
       "      <th>zona_Sul</th>\n",
       "    </tr>\n",
       "  </thead>\n",
       "  <tbody>\n",
       "    <tr>\n",
       "      <th>8581</th>\n",
       "      <td>-22.96387</td>\n",
       "      <td>-43.17259</td>\n",
       "      <td>1</td>\n",
       "      <td>53</td>\n",
       "      <td>1</td>\n",
       "      <td>364</td>\n",
       "      <td>0</td>\n",
       "      <td>0</td>\n",
       "      <td>0</td>\n",
       "      <td>0</td>\n",
       "      <td>0</td>\n",
       "      <td>1</td>\n",
       "    </tr>\n",
       "    <tr>\n",
       "      <th>10011</th>\n",
       "      <td>-23.01528</td>\n",
       "      <td>-43.47180</td>\n",
       "      <td>3</td>\n",
       "      <td>5</td>\n",
       "      <td>1</td>\n",
       "      <td>0</td>\n",
       "      <td>0</td>\n",
       "      <td>0</td>\n",
       "      <td>0</td>\n",
       "      <td>0</td>\n",
       "      <td>1</td>\n",
       "      <td>0</td>\n",
       "    </tr>\n",
       "    <tr>\n",
       "      <th>3943</th>\n",
       "      <td>-22.93832</td>\n",
       "      <td>-43.17864</td>\n",
       "      <td>3</td>\n",
       "      <td>8</td>\n",
       "      <td>1</td>\n",
       "      <td>232</td>\n",
       "      <td>0</td>\n",
       "      <td>0</td>\n",
       "      <td>0</td>\n",
       "      <td>0</td>\n",
       "      <td>0</td>\n",
       "      <td>1</td>\n",
       "    </tr>\n",
       "    <tr>\n",
       "      <th>24467</th>\n",
       "      <td>-22.98603</td>\n",
       "      <td>-43.19090</td>\n",
       "      <td>3</td>\n",
       "      <td>1</td>\n",
       "      <td>3</td>\n",
       "      <td>364</td>\n",
       "      <td>0</td>\n",
       "      <td>0</td>\n",
       "      <td>0</td>\n",
       "      <td>0</td>\n",
       "      <td>0</td>\n",
       "      <td>1</td>\n",
       "    </tr>\n",
       "    <tr>\n",
       "      <th>28191</th>\n",
       "      <td>-22.98399</td>\n",
       "      <td>-43.20663</td>\n",
       "      <td>3</td>\n",
       "      <td>4</td>\n",
       "      <td>3</td>\n",
       "      <td>89</td>\n",
       "      <td>0</td>\n",
       "      <td>0</td>\n",
       "      <td>0</td>\n",
       "      <td>0</td>\n",
       "      <td>0</td>\n",
       "      <td>1</td>\n",
       "    </tr>\n",
       "  </tbody>\n",
       "</table>\n",
       "</div>"
      ],
      "text/plain": [
       "       latitude  longitude  minimum_nights  number_of_reviews  \\\n",
       "8581  -22.96387  -43.17259               1                 53   \n",
       "10011 -23.01528  -43.47180               3                  5   \n",
       "3943  -22.93832  -43.17864               3                  8   \n",
       "24467 -22.98603  -43.19090               3                  1   \n",
       "28191 -22.98399  -43.20663               3                  4   \n",
       "\n",
       "       calculated_host_listings_count  availability_365  room_type_Hotel room  \\\n",
       "8581                                1               364                     0   \n",
       "10011                               1                 0                     0   \n",
       "3943                                1               232                     0   \n",
       "24467                               3               364                     0   \n",
       "28191                               3                89                     0   \n",
       "\n",
       "       room_type_Private room  room_type_Shared room  zona_Norte  zona_Oeste  \\\n",
       "8581                        0                      0           0           0   \n",
       "10011                       0                      0           0           1   \n",
       "3943                        0                      0           0           0   \n",
       "24467                       0                      0           0           0   \n",
       "28191                       0                      0           0           0   \n",
       "\n",
       "       zona_Sul  \n",
       "8581          1  \n",
       "10011         0  \n",
       "3943          1  \n",
       "24467         1  \n",
       "28191         1  "
      ]
     },
     "execution_count": 51,
     "metadata": {},
     "output_type": "execute_result"
    }
   ],
   "source": [
    "X_train.head()"
   ]
  },
  {
   "cell_type": "code",
   "execution_count": 52,
   "metadata": {},
   "outputs": [],
   "source": [
    "from sklearn.preprocessing import StandardScaler\n",
    "sc = StandardScaler()\n",
    "X_train_scaled = sc.fit_transform(X_train)\n",
    "X_test_scaled = sc.transform(X_test)"
   ]
  },
  {
   "cell_type": "code",
   "execution_count": 53,
   "metadata": {},
   "outputs": [
    {
     "data": {
      "text/plain": [
       "array([[ 0.05263052,  0.77132838, -1.0242657 ,  1.50465928, -0.25768475,\n",
       "         1.21753877, -0.07477621, -0.62787696, -0.15381379, -0.26769711,\n",
       "        -0.5544503 ,  0.79003532],\n",
       "       [-1.53875654, -2.46873588,  0.22228386, -0.23267581, -0.25768475,\n",
       "        -1.20212133, -0.07477621, -0.62787696, -0.15381379, -0.26769711,\n",
       "         1.80358817, -1.2657662 ],\n",
       "       [ 0.84352605,  0.70581457,  0.22228386, -0.12409236, -0.25768475,\n",
       "         0.34007961, -0.07477621, -0.62787696, -0.15381379, -0.26769711,\n",
       "        -0.5544503 ,  0.79003532],\n",
       "       [-0.63332819,  0.57305434,  0.22228386, -0.37745373, -0.14411973,\n",
       "         1.21753877, -0.07477621, -0.62787696, -0.15381379, -0.26769711,\n",
       "        -0.5544503 ,  0.79003532],\n",
       "       [-0.57018037,  0.40271842,  0.22228386, -0.26887029, -0.14411973,\n",
       "        -0.61050114, -0.07477621, -0.62787696, -0.15381379, -0.26769711,\n",
       "        -0.5544503 ,  0.79003532]])"
      ]
     },
     "execution_count": 53,
     "metadata": {},
     "output_type": "execute_result"
    }
   ],
   "source": [
    "X_train_scaled[:5]"
   ]
  },
  {
   "cell_type": "markdown",
   "metadata": {},
   "source": [
    "### Geração dos Modelos"
   ]
  },
  {
   "cell_type": "markdown",
   "metadata": {},
   "source": [
    "Testou-se o conjunto de dados preparado em 5 Algoritmos de aprendizagem de máquina para problemas de regressão distintos."
   ]
  },
  {
   "cell_type": "code",
   "execution_count": 54,
   "metadata": {},
   "outputs": [],
   "source": [
    "from sklearn.linear_model import LinearRegression\n",
    "from sklearn.linear_model import Ridge\n",
    "from sklearn.linear_model import Lasso\n",
    "from sklearn.neighbors import KNeighborsRegressor\n",
    "from sklearn.tree import DecisionTreeRegressor\n",
    "from sklearn.svm import SVR\n"
   ]
  },
  {
   "cell_type": "markdown",
   "metadata": {},
   "source": [
    "#### Base Line"
   ]
  },
  {
   "cell_type": "code",
   "execution_count": 55,
   "metadata": {},
   "outputs": [],
   "source": [
    "def retornaMedia(y):\n",
    "    tamanhoAmostra=len(y)\n",
    "    media=y.mean()\n",
    "    y_pred=[]\n",
    "    for i in range(0,tamanhoAmostra):\n",
    "        y_pred.append(media)\n",
    "    return y_pred"
   ]
  },
  {
   "cell_type": "code",
   "execution_count": 56,
   "metadata": {},
   "outputs": [
    {
     "name": "stdout",
     "output_type": "stream",
     "text": [
      "Os valores da métrica para a base line sãor2 = 0.0 e MSE = 78215.50885654331\n"
     ]
    }
   ],
   "source": [
    "p=retornaMedia(y_test)\n",
    "r2=r2_score(y_test, p)\n",
    "mse=mean_squared_error(y_test, p)\n",
    "print(\"Os valores da métrica para a base line sãor2 = {} e MSE = {}\".format(r2,mse))"
   ]
  },
  {
   "cell_type": "markdown",
   "metadata": {},
   "source": [
    "#### Regressão Linear Simples"
   ]
  },
  {
   "cell_type": "code",
   "execution_count": 57,
   "metadata": {},
   "outputs": [
    {
     "name": "stdout",
     "output_type": "stream",
     "text": [
      "r2 = 0.15696080930080847 e MSE = 65938.73928654572\n"
     ]
    }
   ],
   "source": [
    "mdl=LinearRegression()\n",
    "mdl.fit(X_train_scaled, y_train)\n",
    "p=mdl.predict(X_test_scaled)\n",
    "r2=r2_score(y_test, p)\n",
    "mse=mean_squared_error(y_test, p)\n",
    "print(\"r2 = {} e MSE = {}\".format(r2,mse))"
   ]
  },
  {
   "cell_type": "markdown",
   "metadata": {},
   "source": [
    "#### Regressão Ridge"
   ]
  },
  {
   "cell_type": "code",
   "execution_count": 58,
   "metadata": {},
   "outputs": [
    {
     "name": "stdout",
     "output_type": "stream",
     "text": [
      "r2 = 0.15696104997927796 e MSE = 65938.72046175676\n"
     ]
    }
   ],
   "source": [
    "mdl=Ridge()\n",
    "mdl.fit(X_train_scaled, y_train)\n",
    "p=mdl.predict(X_test_scaled)\n",
    "r2=r2_score(y_test, p)\n",
    "mse=mean_squared_error(y_test, p)\n",
    "print(\"r2 = {} e MSE = {}\".format(r2,mse))"
   ]
  },
  {
   "cell_type": "markdown",
   "metadata": {},
   "source": [
    "#### Regressão Lasso"
   ]
  },
  {
   "cell_type": "code",
   "execution_count": 59,
   "metadata": {},
   "outputs": [
    {
     "name": "stdout",
     "output_type": "stream",
     "text": [
      "r2 = 0.157067661649976 e MSE = 65930.38177568307\n"
     ]
    }
   ],
   "source": [
    "mdl=Lasso()\n",
    "mdl.fit(X_train_scaled, y_train)\n",
    "p=mdl.predict(X_test_scaled)\n",
    "r2=r2_score(y_test, p)\n",
    "mse=mean_squared_error(y_test, p)\n",
    "print(\"r2 = {} e MSE = {}\".format(r2,mse))"
   ]
  },
  {
   "cell_type": "markdown",
   "metadata": {},
   "source": [
    "#### KNN Regressor"
   ]
  },
  {
   "cell_type": "code",
   "execution_count": 60,
   "metadata": {},
   "outputs": [
    {
     "name": "stdout",
     "output_type": "stream",
     "text": [
      "r2 = 0.15348128098150315 e MSE = 66210.89236462093\n"
     ]
    }
   ],
   "source": [
    "mdl=KNeighborsRegressor()\n",
    "mdl.fit(X_train_scaled, y_train)\n",
    "p=mdl.predict(X_test_scaled)\n",
    "r2=r2_score(y_test, p)\n",
    "mse=mean_squared_error(y_test, p)\n",
    "print(\"r2 = {} e MSE = {}\".format(r2,mse))"
   ]
  },
  {
   "cell_type": "markdown",
   "metadata": {},
   "source": [
    "#### DecisionTreeRegressor"
   ]
  },
  {
   "cell_type": "code",
   "execution_count": 61,
   "metadata": {},
   "outputs": [
    {
     "name": "stdout",
     "output_type": "stream",
     "text": [
      "r2 = -0.35274982041287695 e MSE = 105806.01555919074\n"
     ]
    }
   ],
   "source": [
    "mdl=DecisionTreeRegressor()\n",
    "mdl.fit(X_train_scaled, y_train)\n",
    "p=mdl.predict(X_test_scaled)\n",
    "r2=r2_score(y_test, p)\n",
    "mse=mean_squared_error(y_test, p)\n",
    "print(\"r2 = {} e MSE = {}\".format(r2,mse))"
   ]
  },
  {
   "cell_type": "markdown",
   "metadata": {},
   "source": [
    "#### Regressor SVM"
   ]
  },
  {
   "cell_type": "code",
   "execution_count": 62,
   "metadata": {},
   "outputs": [
    {
     "name": "stdout",
     "output_type": "stream",
     "text": [
      "r2 = 0.20284125467022152 e MSE = 62350.17690541224\n"
     ]
    }
   ],
   "source": [
    "mdl=SVR(C = 1000, gamma = 0.1)\n",
    "mdl.fit(X_train_scaled, y_train)\n",
    "p=mdl.predict(X_test_scaled)\n",
    "r2=r2_score(y_test, p)\n",
    "mse=mean_squared_error(y_test, p)\n",
    "print(\"r2 = {} e MSE = {}\".format(r2,mse))"
   ]
  },
  {
   "cell_type": "markdown",
   "metadata": {},
   "source": [
    "#### Gradient Boosting Regressor"
   ]
  },
  {
   "cell_type": "code",
   "execution_count": 63,
   "metadata": {},
   "outputs": [
    {
     "name": "stdout",
     "output_type": "stream",
     "text": [
      "r2 = 0.29451940361424045 e MSE = 55179.52383472984\n"
     ]
    }
   ],
   "source": [
    "mdl=GradientBoostingRegressor()\n",
    "mdl.fit(X_train_scaled, y_train)\n",
    "p=mdl.predict(X_test_scaled)\n",
    "r2=r2_score(y_test, p)\n",
    "mse=mean_squared_error(y_test, p)\n",
    "print(\"r2 = {} e MSE = {}\".format(r2,mse))"
   ]
  },
  {
   "cell_type": "code",
   "execution_count": 64,
   "metadata": {},
   "outputs": [
    {
     "data": {
      "text/plain": [
       "(8864, 12)"
      ]
     },
     "execution_count": 64,
     "metadata": {},
     "output_type": "execute_result"
    }
   ],
   "source": [
    "X_test.shape"
   ]
  },
  {
   "cell_type": "code",
   "execution_count": 65,
   "metadata": {},
   "outputs": [
    {
     "data": {
      "text/plain": [
       "(12,)"
      ]
     },
     "execution_count": 65,
     "metadata": {},
     "output_type": "execute_result"
    }
   ],
   "source": [
    "X_train_scaled.shape[1:]"
   ]
  },
  {
   "cell_type": "code",
   "execution_count": 66,
   "metadata": {},
   "outputs": [],
   "source": [
    "import tensorflow as tf\n",
    "\n",
    "from tensorflow import keras\n",
    "from tensorflow.keras import layers, Sequential\n",
    "from tensorflow.keras.layers import Dense"
   ]
  },
  {
   "cell_type": "code",
   "execution_count": 67,
   "metadata": {},
   "outputs": [],
   "source": [
    "model = Sequential()\n",
    "model.add(layers.Dense(10, activation='relu',input_shape=[12]))\n",
    "model.add(Dense(64, activation='relu'))\n",
    "model.add(Dense(1))"
   ]
  },
  {
   "cell_type": "code",
   "execution_count": 68,
   "metadata": {},
   "outputs": [],
   "source": [
    "optimizer = tf.keras.optimizers.RMSprop(0.001)\n",
    "\n",
    "model.compile(loss='mse',\n",
    "                optimizer=optimizer,\n",
    "                metrics=['mae', 'mse'])"
   ]
  },
  {
   "cell_type": "code",
   "execution_count": 69,
   "metadata": {},
   "outputs": [
    {
     "name": "stdout",
     "output_type": "stream",
     "text": [
      "Model: \"sequential_7\"\n",
      "_________________________________________________________________\n",
      "Layer (type)                 Output Shape              Param #   \n",
      "=================================================================\n",
      "dense_9 (Dense)              (None, 10)                130       \n",
      "_________________________________________________________________\n",
      "dense_10 (Dense)             (None, 64)                704       \n",
      "_________________________________________________________________\n",
      "dense_11 (Dense)             (None, 1)                 65        \n",
      "=================================================================\n",
      "Total params: 899\n",
      "Trainable params: 899\n",
      "Non-trainable params: 0\n",
      "_________________________________________________________________\n"
     ]
    }
   ],
   "source": [
    "model.summary()"
   ]
  },
  {
   "cell_type": "code",
   "execution_count": 70,
   "metadata": {},
   "outputs": [
    {
     "name": "stdout",
     "output_type": "stream",
     "text": [
      "Epoch 1/20\n",
      "518/518 [==============================] - 0s 629us/step - loss: 163762.2344 - mae: 295.7498 - mse: 163762.2344 - val_loss: 89846.2656 - val_mae: 196.4248 - val_mse: 89846.2656\n",
      "Epoch 2/20\n",
      "518/518 [==============================] - 0s 485us/step - loss: 70518.2422 - mae: 191.6232 - mse: 70518.2422 - val_loss: 63265.5898 - val_mae: 187.7186 - val_mse: 63265.5898\n",
      "Epoch 3/20\n",
      "518/518 [==============================] - 0s 497us/step - loss: 65154.7148 - mae: 190.1494 - mse: 65154.7148 - val_loss: 62254.8672 - val_mae: 185.6583 - val_mse: 62254.8672\n",
      "Epoch 4/20\n",
      "518/518 [==============================] - 0s 509us/step - loss: 64372.1172 - mae: 188.9612 - mse: 64372.1172 - val_loss: 61682.5469 - val_mae: 181.6050 - val_mse: 61682.5469\n",
      "Epoch 5/20\n",
      "518/518 [==============================] - 0s 487us/step - loss: 63925.0977 - mae: 187.4851 - mse: 63925.0977 - val_loss: 61295.6797 - val_mae: 184.5753 - val_mse: 61295.6797\n",
      "Epoch 6/20\n",
      "518/518 [==============================] - 0s 513us/step - loss: 63545.2266 - mae: 187.4967 - mse: 63545.2266 - val_loss: 60943.6094 - val_mae: 183.5596 - val_mse: 60943.6094\n",
      "Epoch 7/20\n",
      "518/518 [==============================] - 0s 508us/step - loss: 63244.5820 - mae: 186.7175 - mse: 63244.5820 - val_loss: 60724.5977 - val_mae: 183.1802 - val_mse: 60724.5977\n",
      "Epoch 8/20\n",
      "518/518 [==============================] - 0s 503us/step - loss: 62990.9844 - mae: 186.5525 - mse: 62990.9844 - val_loss: 60548.6367 - val_mae: 183.4151 - val_mse: 60548.6367\n",
      "Epoch 9/20\n",
      "518/518 [==============================] - 0s 514us/step - loss: 62724.8516 - mae: 185.5854 - mse: 62724.8516 - val_loss: 60462.6797 - val_mae: 184.8134 - val_mse: 60462.6797\n",
      "Epoch 10/20\n",
      "518/518 [==============================] - 0s 510us/step - loss: 62562.7422 - mae: 185.9894 - mse: 62562.7422 - val_loss: 60174.2148 - val_mae: 183.3218 - val_mse: 60174.2148\n",
      "Epoch 11/20\n",
      "518/518 [==============================] - 0s 517us/step - loss: 62375.4805 - mae: 185.4765 - mse: 62375.4805 - val_loss: 60232.5352 - val_mae: 184.5259 - val_mse: 60232.5352\n",
      "Epoch 12/20\n",
      "518/518 [==============================] - 0s 530us/step - loss: 62238.0391 - mae: 185.0614 - mse: 62238.0391 - val_loss: 59848.7383 - val_mae: 182.2856 - val_mse: 59848.7383\n",
      "Epoch 13/20\n",
      "518/518 [==============================] - 0s 500us/step - loss: 62082.1484 - mae: 184.7551 - mse: 62082.1484 - val_loss: 59663.9336 - val_mae: 181.1967 - val_mse: 59663.9336\n",
      "Epoch 14/20\n",
      "518/518 [==============================] - 0s 502us/step - loss: 61953.3711 - mae: 184.4253 - mse: 61953.3711 - val_loss: 59562.1680 - val_mae: 181.8501 - val_mse: 59562.1680\n",
      "Epoch 15/20\n",
      "518/518 [==============================] - 0s 548us/step - loss: 61810.1875 - mae: 184.1190 - mse: 61810.1875 - val_loss: 59391.4766 - val_mae: 180.7247 - val_mse: 59391.4766\n",
      "Epoch 16/20\n",
      "518/518 [==============================] - 0s 491us/step - loss: 61642.0195 - mae: 183.9320 - mse: 61642.0195 - val_loss: 59278.1367 - val_mae: 180.3326 - val_mse: 59278.1367\n",
      "Epoch 17/20\n",
      "518/518 [==============================] - 0s 503us/step - loss: 61518.8555 - mae: 183.6406 - mse: 61518.8555 - val_loss: 59151.5820 - val_mae: 179.7098 - val_mse: 59151.5820\n",
      "Epoch 18/20\n",
      "518/518 [==============================] - 0s 486us/step - loss: 61402.5625 - mae: 183.2517 - mse: 61402.5625 - val_loss: 59046.1719 - val_mae: 179.6718 - val_mse: 59046.1719\n",
      "Epoch 19/20\n",
      "518/518 [==============================] - 0s 498us/step - loss: 61270.5391 - mae: 183.2676 - mse: 61270.5391 - val_loss: 59011.2852 - val_mae: 179.4835 - val_mse: 59011.2852\n",
      "Epoch 20/20\n",
      "518/518 [==============================] - 0s 510us/step - loss: 61156.6641 - mae: 182.8057 - mse: 61156.6641 - val_loss: 58915.2422 - val_mae: 179.8352 - val_mse: 58915.2422\n"
     ]
    },
    {
     "data": {
      "text/plain": [
       "<tensorflow.python.keras.callbacks.History at 0x7f1d2d6a85e0>"
      ]
     },
     "execution_count": 70,
     "metadata": {},
     "output_type": "execute_result"
    }
   ],
   "source": [
    "model.fit(X_train_scaled, y_train,\n",
    "  epochs=20, validation_split = 0.2)"
   ]
  },
  {
   "cell_type": "code",
   "execution_count": 71,
   "metadata": {},
   "outputs": [],
   "source": [
    "p=model.predict(X_test_scaled)"
   ]
  },
  {
   "cell_type": "code",
   "execution_count": 72,
   "metadata": {},
   "outputs": [
    {
     "name": "stdout",
     "output_type": "stream",
     "text": [
      "r2 = 0.21575664697095787 e MSE = 61339.99292452827\n"
     ]
    }
   ],
   "source": [
    "\n",
    "r2=r2_score(y_test, p)\n",
    "mse=mean_squared_error(y_test, p)\n",
    "print(\"r2 = {} e MSE = {}\".format(r2,mse))"
   ]
  },
  {
   "cell_type": "markdown",
   "metadata": {},
   "source": [
    "### Otimização de Parâmetros"
   ]
  },
  {
   "cell_type": "code",
   "execution_count": 75,
   "metadata": {},
   "outputs": [
    {
     "data": {
      "text/plain": [
       "RandomizedSearchCV(estimator=GradientBoostingRegressor(),\n",
       "                   param_distributions={'learning_rate': [0.02, 0.05],\n",
       "                                        'max_depth': [1, 2],\n",
       "                                        'min_samples_leaf': [5, 10],\n",
       "                                        'min_samples_split': [5, 10],\n",
       "                                        'n_estimators': [500, 1000]})"
      ]
     },
     "execution_count": 75,
     "metadata": {},
     "output_type": "execute_result"
    }
   ],
   "source": [
    "from sklearn.model_selection import RandomizedSearchCV\n",
    "from sklearn.ensemble import GradientBoostingRegressor\n",
    "\n",
    "num_estimators = [500,1000]\n",
    "learn_rates = [0.02, 0.05]\n",
    "max_depths = [1, 2]\n",
    "min_samples_leaf = [5,10]\n",
    "min_samples_split = [5,10]\n",
    "\n",
    "param_grid = {'n_estimators': num_estimators,\n",
    "              'learning_rate': learn_rates,\n",
    "              'max_depth': max_depths,\n",
    "              'min_samples_leaf': min_samples_leaf,\n",
    "              'min_samples_split': min_samples_split}\n",
    "\n",
    "gbr=GradientBoostingRegressor()\n",
    "mdl = RandomizedSearchCV(gbr, param_grid)\n",
    "mdl.fit(X_train_scaled, y_train)\n"
   ]
  },
  {
   "cell_type": "code",
   "execution_count": 76,
   "metadata": {},
   "outputs": [
    {
     "name": "stdout",
     "output_type": "stream",
     "text": [
      "r2 = 0.28863824623518575 e MSE = 55639.52155179801\n"
     ]
    }
   ],
   "source": [
    "p=mdl.predict(X_test_scaled)\n",
    "r2=r2_score(y_test, p)\n",
    "mse=mean_squared_error(y_test, p)\n",
    "print(\"r2 = {} e MSE = {}\".format(r2,mse))"
   ]
  },
  {
   "cell_type": "code",
   "execution_count": null,
   "metadata": {},
   "outputs": [],
   "source": [
    "mdl.best_params_"
   ]
  },
  {
   "cell_type": "markdown",
   "metadata": {},
   "source": [
    "## 5.2 - Salvando o melhor modelo Modelo"
   ]
  },
  {
   "cell_type": "code",
   "execution_count": 78,
   "metadata": {},
   "outputs": [
    {
     "name": "stdout",
     "output_type": "stream",
     "text": [
      "r2 = 0.29451940361424045 e MSE = 55179.52383472984\n"
     ]
    },
    {
     "data": {
      "text/plain": [
       "['modelo.pkl.z']"
      ]
     },
     "execution_count": 78,
     "metadata": {},
     "output_type": "execute_result"
    }
   ],
   "source": [
    "import joblib as jb\n",
    "\n",
    "mdl=GradientBoostingRegressor()\n",
    "mdl.fit(X_train_scaled, y_train)\n",
    "p=mdl.predict(X_test_scaled)\n",
    "r2=r2_score(y_test, p)\n",
    "mse=mean_squared_error(y_test, p)\n",
    "print(\"r2 = {} e MSE = {}\".format(r2,mse))\n",
    "\n",
    "jb.dump(mdl, \"modelo.pkl.z\")"
   ]
  },
  {
   "cell_type": "markdown",
   "metadata": {},
   "source": [
    "Recuperando o modelo"
   ]
  },
  {
   "cell_type": "code",
   "execution_count": 79,
   "metadata": {},
   "outputs": [
    {
     "data": {
      "text/plain": [
       "array([143.51555643, 272.28334259, 496.60798777, 461.72203445,\n",
       "       456.82282231])"
      ]
     },
     "execution_count": 79,
     "metadata": {},
     "output_type": "execute_result"
    }
   ],
   "source": [
    "mdl2=jb.load(\"modelo.pkl.z\")\n",
    "p=mdl2.predict(X_test_scaled)\n",
    "p[0:5]"
   ]
  }
 ],
 "metadata": {
  "kernelspec": {
   "display_name": "Python 3",
   "language": "python",
   "name": "python3"
  },
  "language_info": {
   "codemirror_mode": {
    "name": "ipython",
    "version": 3
   },
   "file_extension": ".py",
   "mimetype": "text/x-python",
   "name": "python",
   "nbconvert_exporter": "python",
   "pygments_lexer": "ipython3",
   "version": "3.8.0"
  }
 },
 "nbformat": 4,
 "nbformat_minor": 4
}
